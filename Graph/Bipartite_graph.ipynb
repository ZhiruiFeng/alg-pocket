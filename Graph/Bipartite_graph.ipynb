{
 "cells": [
  {
   "cell_type": "markdown",
   "metadata": {},
   "source": [
    "# Bipartite Graph"
   ]
  },
  {
   "cell_type": "markdown",
   "metadata": {
    "collapsed": true
   },
   "source": [
    "Example [link](https://leetcode.com/problems/is-graph-bipartite/description/)"
   ]
  },
  {
   "cell_type": "code",
   "execution_count": 1,
   "metadata": {
    "collapsed": true
   },
   "outputs": [],
   "source": [
    "class Solution(object):\n",
    "    def isBipartite(self, graph):\n",
    "        \"\"\"\n",
    "        :type graph: List[List[int]]\n",
    "        :rtype: bool\n",
    "        \"\"\"\n",
    "        n = len(graph)\n",
    "        if n == 1: return True\n",
    "        groupA = []\n",
    "        groupB = []\n",
    "        count = 0\n",
    "        indexA = 0\n",
    "        indexB = 0\n",
    "        while count < n:\n",
    "            for i in range(n):\n",
    "                if i not in groupA and i not in groupB:\n",
    "                    break\n",
    "            groupA.append(i)\n",
    "            curA = True\n",
    "            while indexA < len(groupA) or indexB < len(groupB):\n",
    "                if curA:\n",
    "                    while indexA < len(groupA):\n",
    "                        curnode = groupA[indexA]\n",
    "                        for node in graph[curnode]:\n",
    "                            if node in groupA:\n",
    "                                return False\n",
    "                            elif node not in groupB:\n",
    "                                groupB.append(node)\n",
    "                        indexA += 1\n",
    "                        count += 1\n",
    "                    curA = False\n",
    "                else:\n",
    "                    while indexB < len(groupB):\n",
    "                        curnode = groupB[indexB]\n",
    "                        for node in graph[curnode]:\n",
    "                            if node in groupB:\n",
    "                                return False\n",
    "                            elif node not in groupA:\n",
    "                                groupA.append(node)\n",
    "                        indexB += 1\n",
    "                        count += 1\n",
    "                    curA = True\n",
    "        return True"
   ]
  },
  {
   "cell_type": "code",
   "execution_count": null,
   "metadata": {
    "collapsed": true
   },
   "outputs": [],
   "source": []
  }
 ],
 "metadata": {
  "kernelspec": {
   "display_name": "Python 3",
   "language": "python",
   "name": "python3"
  },
  "language_info": {
   "codemirror_mode": {
    "name": "ipython",
    "version": 3
   },
   "file_extension": ".py",
   "mimetype": "text/x-python",
   "name": "python",
   "nbconvert_exporter": "python",
   "pygments_lexer": "ipython3",
   "version": "3.6.4"
  }
 },
 "nbformat": 4,
 "nbformat_minor": 2
}
