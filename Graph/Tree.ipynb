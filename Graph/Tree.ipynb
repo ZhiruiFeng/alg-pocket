{
 "cells": [
  {
   "cell_type": "markdown",
   "metadata": {},
   "source": [
    "# Tree"
   ]
  },
  {
   "cell_type": "markdown",
   "metadata": {},
   "source": [
    "## Minimal Spanning Tree"
   ]
  },
  {
   "cell_type": "markdown",
   "metadata": {},
   "source": [
    "One algorithm we need to know before it is **Union-find** algorithm.\n",
    "\n",
    "A basical example, [link](https://leetcode.com/problems/redundant-connection/description/)."
   ]
  },
  {
   "cell_type": "code",
   "execution_count": 18,
   "metadata": {
    "collapsed": true
   },
   "outputs": [],
   "source": [
    "class Solution(object):\n",
    "    def findRedundantConnection(self, edges):\n",
    "        \"\"\"\n",
    "        :type edges: List[List[int]]\n",
    "        :rtype: List[int]\n",
    "        \"\"\"\n",
    "        self.rep = list(range(len(edges)))\n",
    "        print(self.rep)\n",
    "        for i, j in edges:\n",
    "            print(i, j)\n",
    "            rooti = self.find(i-1)\n",
    "            rootj = self.find(j-1)\n",
    "            if rooti == rootj:\n",
    "                return [i, j]\n",
    "            self.rep[rooti] = rootj\n",
    "            print(self.rep)\n",
    "    \n",
    "    def find(self, nodeid):\n",
    "        if self.rep[nodeid] == nodeid:\n",
    "            return nodeid\n",
    "        else:\n",
    "            return self.find(self.rep[nodeid])"
   ]
  },
  {
   "cell_type": "code",
   "execution_count": 19,
   "metadata": {
    "collapsed": true
   },
   "outputs": [],
   "source": [
    "s = Solution()"
   ]
  },
  {
   "cell_type": "code",
   "execution_count": 20,
   "metadata": {},
   "outputs": [
    {
     "name": "stdout",
     "output_type": "stream",
     "text": [
      "[0, 1, 2]\n",
      "1 2\n",
      "[1, 1, 2]\n",
      "1 3\n",
      "[1, 2, 2]\n",
      "2 3\n"
     ]
    },
    {
     "data": {
      "text/plain": [
       "[2, 3]"
      ]
     },
     "execution_count": 20,
     "metadata": {},
     "output_type": "execute_result"
    }
   ],
   "source": [
    "inputs = [[2,1],[3,1],[4,2],[1,4]]\n",
    "s.findRedundantConnection(inputs)"
   ]
  },
  {
   "cell_type": "markdown",
   "metadata": {},
   "source": [
    "Example [link](https://leetcode.com/problems/couples-holding-hands):\n",
    "\n",
    "Find connected components."
   ]
  },
  {
   "cell_type": "code",
   "execution_count": null,
   "metadata": {
    "collapsed": true
   },
   "outputs": [],
   "source": [
    "class Solution(object):\n",
    "    def minSwapsCouples(self, row):\n",
    "        N = int(len(row)/2)\n",
    "        edges = [[0,0] for _ in range(N)]\n",
    "        # Connect the graph\n",
    "        for i in range(int(2*N)):\n",
    "            node = int(i/2)\n",
    "            num = row[i]\n",
    "            edges[int(num/2)][int(num%2)]=node\n",
    "        # Using Union-Find Algorithm\n",
    "        self.parent = list(range(N))\n",
    "        for i, j in edges:\n",
    "            if i == j:\n",
    "                continue\n",
    "            rooti = self.find(i)\n",
    "            rootj = self.find(j)\n",
    "            self.parent[rooti] = rootj\n",
    "        count = [0]*N\n",
    "        for i in range(N):\n",
    "            root = self.find(i)\n",
    "            count[root]+=1\n",
    "        total = 0\n",
    "        for i in count:\n",
    "            if i>0:\n",
    "                total+=i-1\n",
    "        return total\n",
    "        \n",
    "    def find(self, nid):\n",
    "        if self.parent[nid] == nid:\n",
    "            return nid\n",
    "        else:\n",
    "            self.parent[nid] = self.find(self.parent[nid])\n",
    "            return self.parent[nid]"
   ]
  },
  {
   "cell_type": "markdown",
   "metadata": {},
   "source": [
    "## Binary Search Tree\n",
    "\n",
    "The main features of this kind of tree are:\n",
    "\n",
    "1. Every node have at most two children nodes.\n",
    "2. The inorder traversal of the tree is a non-descending array."
   ]
  },
  {
   "cell_type": "markdown",
   "metadata": {},
   "source": [
    "As for the out of order problem on binary search tree:\n",
    "\n",
    "One brutal force way is get the inorder traversal and sort them, then reassign the value."
   ]
  },
  {
   "cell_type": "markdown",
   "metadata": {},
   "source": [
    "Example [link](https://leetcode.com/problems/recover-binary-search-tree/description/):\n",
    "\n",
    "A good explaination can be find [here](https://leetcode.com/problems/recover-binary-search-tree/discuss/32535/No-Fancy-Algorithm-just-Simple-and-Powerful-In-Order-Traversal)."
   ]
  },
  {
   "cell_type": "code",
   "execution_count": null,
   "metadata": {},
   "outputs": [],
   "source": [
    "# Definition for a binary tree node.\n",
    "class TreeNode(object):\n",
    "    def __init__(self, x):      \n",
    "        self.val = x\n",
    "        self.left = None\n",
    "        self.right = None\n",
    "\n",
    "class Solution(object):\n",
    "    def recoverTree(self, root):\n",
    "        \"\"\"\n",
    "        :type root: TreeNode\n",
    "        :rtype: void Do not return anything, modify root in-place instead.\n",
    "        \"\"\"\n",
    "        self.first = None\n",
    "        self.second = None\n",
    "        self.pre = TreeNode(-float('inf'))\n",
    "        \n",
    "        def search(root):\n",
    "            if root == None:\n",
    "                return\n",
    "            search(root.left)\n",
    "            \n",
    "            if self.first == None and self.pre.val >= root.val:\n",
    "                self.first = self.pre\n",
    "            \n",
    "            if self.first != None and self.pre.val >= root.val:\n",
    "                self.second = root\n",
    "            \n",
    "            self.pre = root\n",
    "            search(root.right)\n",
    "            return\n",
    "        \n",
    "        search(root)\n",
    "        \n",
    "        temp = self.first.val\n",
    "        self.first.val = self.second.val\n",
    "        self.second.val = temp\n",
    "        return\n",
    "        "
   ]
  }
 ],
 "metadata": {
  "kernelspec": {
   "display_name": "Python 3",
   "language": "python",
   "name": "python3"
  },
  "language_info": {
   "codemirror_mode": {
    "name": "ipython",
    "version": 3
   },
   "file_extension": ".py",
   "mimetype": "text/x-python",
   "name": "python",
   "nbconvert_exporter": "python",
   "pygments_lexer": "ipython3",
   "version": "3.6.4"
  }
 },
 "nbformat": 4,
 "nbformat_minor": 2
}
