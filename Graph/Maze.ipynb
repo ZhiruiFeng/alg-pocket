{
 "cells": [
  {
   "cell_type": "markdown",
   "metadata": {},
   "source": [
    "# Maze and path finding"
   ]
  },
  {
   "cell_type": "markdown",
   "metadata": {},
   "source": [
    "For searching, we have Depth-First Search, Breadth-First Search, Dijkstra, Best-First Search and A\\* algorithms."
   ]
  },
  {
   "cell_type": "markdown",
   "metadata": {},
   "source": [
    "Using searching to solve a problem, we should know the target doesn't only means a specific location on the graph, but also can be a state reached during the searching process. Which means even you work on the same location, but it's not the same node in abstraction since you are in different state."
   ]
  },
  {
   "cell_type": "code",
   "execution_count": 36,
   "metadata": {},
   "outputs": [],
   "source": [
    "import collections\n",
    "import heapq\n",
    "class Solution(object):\n",
    "    def shortestPathAllKeys(self, grid):\n",
    "        M = len(grid)\n",
    "        N = len(grid[0])\n",
    "        \n",
    "        location = {v: (m, n) \n",
    "                    for m, row in enumerate(grid)\n",
    "                    for n, v in enumerate(row) \n",
    "                    if v not in '.#'}\n",
    "    \n",
    "        def neighbors(m, n):\n",
    "            for nm, nn in ((m-1, n), (m+1, n), (m, n-1), (m, n+1)):\n",
    "                if 0<=nm<M and 0<=nn<N:\n",
    "                    yield nm, nn\n",
    "    \n",
    "        def bfs_from(source):\n",
    "            m, n = location[source]\n",
    "            visited = [[False]*N for _ in range(M)]\n",
    "            visited[m][n] = True\n",
    "            queue = [(m, n, 0)]\n",
    "            dist = {}\n",
    "            while queue:\n",
    "                m, n, d = queue.pop(0)\n",
    "                if grid[m][n] != source and grid[m][n]!= '.':\n",
    "                    dist[grid[m][n]] = d\n",
    "                    continue # We don't want a path containing two points\n",
    "                for nm, nn in neighbors(m, n):\n",
    "                    if grid[nm][nn] != '#' and not visited[nm][nn]:\n",
    "                        visited[nm][nn] = True\n",
    "                        queue.append((nm, nn, d+1))\n",
    "            return dist\n",
    "        dists = {place: bfs_from(place) for place in location}\n",
    "        target_state = 2**sum(p.islower() for p in location)-1\n",
    "        pq = [(0, '@', 0)]\n",
    "        cost_sofar = collections.defaultdict(lambda: float('inf'))\n",
    "        cost_sofar['@', 0] = 0\n",
    "        while pq:\n",
    "            d, place, state = heapq.heappop(pq)\n",
    "            if cost_sofar[place, state] < d: \n",
    "                continue\n",
    "            if state == target_state:\n",
    "                return d\n",
    "            \n",
    "            for nextstation in dists[place]:\n",
    "                nextd = dists[place][nextstation]\n",
    "                tempstate = state\n",
    "                if nextstation.islower():\n",
    "                    tempstate |= (1<< (ord(nextstation)-ord('a')))\n",
    "                elif nextstation.isupper():\n",
    "                    if not (state & (1<< (ord(nextstation)-ord('A')))):\n",
    "                        continue\n",
    "                \n",
    "                if d+nextd < cost_sofar[nextstation, tempstate]:\n",
    "                    cost_sofar[nextstation, tempstate] = d+nextd\n",
    "                    heapq.heappush(pq, (d+nextd, nextstation, tempstate))\n",
    "        return -1\n",
    "                \n",
    "    "
   ]
  },
  {
   "cell_type": "code",
   "execution_count": 37,
   "metadata": {},
   "outputs": [],
   "source": [
    "s = Solution()"
   ]
  },
  {
   "cell_type": "code",
   "execution_count": 38,
   "metadata": {},
   "outputs": [
    {
     "data": {
      "text/plain": [
       "8"
      ]
     },
     "execution_count": 38,
     "metadata": {},
     "output_type": "execute_result"
    }
   ],
   "source": [
    "grid = [\"@.a.#\",\"###.#\",\"b.A.B\"]\n",
    "s.shortestPathAllKeys(grid)"
   ]
  },
  {
   "cell_type": "markdown",
   "metadata": {},
   "source": [
    "Example [Link](https://leetcode.com/problems/longest-increasing-path-in-a-matrix/description/):"
   ]
  },
  {
   "cell_type": "code",
   "execution_count": 4,
   "metadata": {},
   "outputs": [],
   "source": [
    "class Solution(object):\n",
    "    def longestIncreasingPath(self, matrix):\n",
    "        \"\"\"\n",
    "        :type matrix: List[List[int]]\n",
    "        :rtype: int\n",
    "        \"\"\"\n",
    "        if not matrix:\n",
    "            return 0\n",
    "        M = len(matrix)\n",
    "        N = len(matrix[0])\n",
    "        adj = [[[] for _ in range(N)] for _ in range(M)]\n",
    "        for m in range(M):\n",
    "            for n in range(N):\n",
    "                for i, j in ((m+1, n), (m, n+1)):\n",
    "                    if i<M and j<N:\n",
    "                        if matrix[i][j]> matrix[m][n]:\n",
    "                            adj[m][n].append((i,j))\n",
    "                        elif matrix[i][j] < matrix[m][n]:\n",
    "                            adj[i][j].append((m,n))\n",
    "        state = [[0]*N for _ in range(M)]\n",
    "        number = [[1]*N for _ in range(M)]\n",
    "        maxnum = 1\n",
    "        stack= [(0,0)]\n",
    "        while stack:\n",
    "            while stack:\n",
    "                m, n = stack[-1]\n",
    "                v = matrix[m][n]\n",
    "                s = state[m][n]\n",
    "                if s == len(adj[m][n]):\n",
    "                    if s > 0:\n",
    "                        i,j = adj[m][n][-1]\n",
    "                        if number[i][j]+1> number[m][n]:\n",
    "                            number[m][n] = number[i][j]+1\n",
    "                        if number[m][n] > maxnum:\n",
    "                            maxnum = number[m][n]\n",
    "                    stack.pop()\n",
    "                else:\n",
    "                    while True:\n",
    "                        if s > 0:\n",
    "                            pi,pj = adj[m][n][s-1]\n",
    "                            if number[pi][pj]+1> number[m][n]:\n",
    "                                number[m][n] = number[pi][pj]+1\n",
    "                        i, j = adj[m][n][s]\n",
    "                        state[m][n] += 1\n",
    "                        s = state[m][n]\n",
    "                        if state[i][j] < len(adj[i][j]):\n",
    "                            stack.append((i, j))\n",
    "                            break\n",
    "                        if state[m][n] == len(adj[m][n]):\n",
    "                            break\n",
    "            for nid in range(M*N):\n",
    "                curm = int(nid/N)\n",
    "                curn = int(nid%N)\n",
    "                if state[curm][curn] < len(adj[curm][curn]):\n",
    "                    stack.append((curm, curn))\n",
    "                    break\n",
    "        return maxnum"
   ]
  },
  {
   "cell_type": "code",
   "execution_count": 5,
   "metadata": {},
   "outputs": [],
   "source": [
    "s=Solution()"
   ]
  },
  {
   "cell_type": "code",
   "execution_count": 6,
   "metadata": {},
   "outputs": [
    {
     "data": {
      "text/plain": [
       "4"
      ]
     },
     "execution_count": 6,
     "metadata": {},
     "output_type": "execute_result"
    }
   ],
   "source": [
    "matrix = [[7,7,5],[2,4,6],[8,2,0]]\n",
    "s.longestIncreasingPath(matrix)"
   ]
  },
  {
   "cell_type": "markdown",
   "metadata": {},
   "source": [
    "A recursive version:"
   ]
  },
  {
   "cell_type": "code",
   "execution_count": 1,
   "metadata": {},
   "outputs": [],
   "source": [
    "class Solution(object):\n",
    "    def longestIncreasingPath(self, matrix):\n",
    "        \"\"\"\n",
    "        :type matrix: List[List[int]]\n",
    "        :rtype: int\n",
    "        \"\"\"\n",
    "        if not matrix:\n",
    "            return 0\n",
    "        self.matrix = matrix\n",
    "        M = len(matrix)\n",
    "        self.M = M\n",
    "        N = len(matrix[0])\n",
    "        self.N = N\n",
    "        self.adj = [[[] for _ in range(N)] for _ in range(M)]\n",
    "        for m in range(M):\n",
    "            for n in range(N):\n",
    "                for i, j in ((m+1, n), (m, n+1)):\n",
    "                    if i<M and j<N:\n",
    "                        if matrix[i][j]> matrix[m][n]:\n",
    "                            self.adj[m][n].append((i,j))\n",
    "                        elif matrix[i][j] < matrix[m][n]:\n",
    "                            self.adj[i][j].append((m,n))\n",
    "        self.number = [[0]*N for _ in range(M)]\n",
    "        maxnum = 1\n",
    "        for m in range(M):\n",
    "            for n in range(N):\n",
    "                length = self.dfs(m, n)\n",
    "                maxnum = max(maxnum, length)\n",
    "        return maxnum\n",
    "    \n",
    "    def dfs(self, m, n):\n",
    "        if self.number[m][n] > 0:\n",
    "            return self.number[m][n]\n",
    "        maxn = 1\n",
    "        for i, j in self.adj[m][n]:\n",
    "            length = 1+self.dfs(i, j)\n",
    "            maxn = max(maxn, length)\n",
    "        self.number[m][n] = maxn\n",
    "        return maxn"
   ]
  },
  {
   "cell_type": "code",
   "execution_count": 2,
   "metadata": {},
   "outputs": [],
   "source": [
    "s=Solution()"
   ]
  },
  {
   "cell_type": "code",
   "execution_count": 3,
   "metadata": {},
   "outputs": [
    {
     "data": {
      "text/plain": [
       "4"
      ]
     },
     "execution_count": 3,
     "metadata": {},
     "output_type": "execute_result"
    }
   ],
   "source": [
    "matrix = [[7,7,5],[2,4,6],[8,2,0]]\n",
    "s.longestIncreasingPath(matrix)"
   ]
  },
  {
   "cell_type": "markdown",
   "metadata": {},
   "source": [
    "**Summay**\n",
    "\n",
    "A comparison between recursive version and the iteration version equiped with the a stack.\n",
    "It doesn't means recursive will be slower all the time, these code for this problem is a good example.\n",
    "\n",
    "In python, we may spend some time unintensionally revisiting some nodes, which can be avoid during the recursive version. We need to realize that this is also where we complain about for using recursive algorithm, but if we can solve the problem of revising some nodes in recursive, like here using extra memory, using recursive may be even more convinent and faster."
   ]
  },
  {
   "cell_type": "code",
   "execution_count": null,
   "metadata": {},
   "outputs": [],
   "source": []
  }
 ],
 "metadata": {
  "kernelspec": {
   "display_name": "Python 3",
   "language": "python",
   "name": "python3"
  },
  "language_info": {
   "codemirror_mode": {
    "name": "ipython",
    "version": 3
   },
   "file_extension": ".py",
   "mimetype": "text/x-python",
   "name": "python",
   "nbconvert_exporter": "python",
   "pygments_lexer": "ipython3",
   "version": "3.6.4"
  }
 },
 "nbformat": 4,
 "nbformat_minor": 2
}
