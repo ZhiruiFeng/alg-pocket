{
 "cells": [
  {
   "cell_type": "markdown",
   "metadata": {},
   "source": [
    "# Maze and path finding"
   ]
  },
  {
   "cell_type": "markdown",
   "metadata": {},
   "source": [
    "For searching, we have Depth-First Search, Breadth-First Search, Dijkstra, Best-First Search and A\\* algorithms."
   ]
  },
  {
   "cell_type": "markdown",
   "metadata": {},
   "source": [
    "Using searching to solve a problem, we should know the target doesn't only means a specific location on the graph, but also can be a state reached during the searching process. Which means even you work on the same location, but it's not the same node in abstraction since you are in different state."
   ]
  },
  {
   "cell_type": "code",
   "execution_count": 36,
   "metadata": {},
   "outputs": [],
   "source": [
    "import collections\n",
    "import heapq\n",
    "class Solution(object):\n",
    "    def shortestPathAllKeys(self, grid):\n",
    "        M = len(grid)\n",
    "        N = len(grid[0])\n",
    "        \n",
    "        location = {v: (m, n) \n",
    "                    for m, row in enumerate(grid)\n",
    "                    for n, v in enumerate(row) \n",
    "                    if v not in '.#'}\n",
    "    \n",
    "        def neighbors(m, n):\n",
    "            for nm, nn in ((m-1, n), (m+1, n), (m, n-1), (m, n+1)):\n",
    "                if 0<=nm<M and 0<=nn<N:\n",
    "                    yield nm, nn\n",
    "    \n",
    "        def bfs_from(source):\n",
    "            m, n = location[source]\n",
    "            visited = [[False]*N for _ in range(M)]\n",
    "            visited[m][n] = True\n",
    "            queue = [(m, n, 0)]\n",
    "            dist = {}\n",
    "            while queue:\n",
    "                m, n, d = queue.pop(0)\n",
    "                if grid[m][n] != source and grid[m][n]!= '.':\n",
    "                    dist[grid[m][n]] = d\n",
    "                    continue # We don't want a path containing two points\n",
    "                for nm, nn in neighbors(m, n):\n",
    "                    if grid[nm][nn] != '#' and not visited[nm][nn]:\n",
    "                        visited[nm][nn] = True\n",
    "                        queue.append((nm, nn, d+1))\n",
    "            return dist\n",
    "        dists = {place: bfs_from(place) for place in location}\n",
    "        target_state = 2**sum(p.islower() for p in location)-1\n",
    "        pq = [(0, '@', 0)]\n",
    "        cost_sofar = collections.defaultdict(lambda: float('inf'))\n",
    "        cost_sofar['@', 0] = 0\n",
    "        while pq:\n",
    "            d, place, state = heapq.heappop(pq)\n",
    "            if cost_sofar[place, state] < d: \n",
    "                continue\n",
    "            if state == target_state:\n",
    "                return d\n",
    "            \n",
    "            for nextstation in dists[place]:\n",
    "                nextd = dists[place][nextstation]\n",
    "                tempstate = state\n",
    "                if nextstation.islower():\n",
    "                    tempstate |= (1<< (ord(nextstation)-ord('a')))\n",
    "                elif nextstation.isupper():\n",
    "                    if not (state & (1<< (ord(nextstation)-ord('A')))):\n",
    "                        continue\n",
    "                \n",
    "                if d+nextd < cost_sofar[nextstation, tempstate]:\n",
    "                    cost_sofar[nextstation, tempstate] = d+nextd\n",
    "                    heapq.heappush(pq, (d+nextd, nextstation, tempstate))\n",
    "        return -1\n",
    "                \n",
    "    "
   ]
  },
  {
   "cell_type": "code",
   "execution_count": 37,
   "metadata": {},
   "outputs": [],
   "source": [
    "s = Solution()"
   ]
  },
  {
   "cell_type": "code",
   "execution_count": 38,
   "metadata": {},
   "outputs": [
    {
     "data": {
      "text/plain": [
       "8"
      ]
     },
     "execution_count": 38,
     "metadata": {},
     "output_type": "execute_result"
    }
   ],
   "source": [
    "grid = [\"@.a.#\",\"###.#\",\"b.A.B\"]\n",
    "s.shortestPathAllKeys(grid)"
   ]
  }
 ],
 "metadata": {
  "kernelspec": {
   "display_name": "Python 3",
   "language": "python",
   "name": "python3"
  },
  "language_info": {
   "codemirror_mode": {
    "name": "ipython",
    "version": 3
   },
   "file_extension": ".py",
   "mimetype": "text/x-python",
   "name": "python",
   "nbconvert_exporter": "python",
   "pygments_lexer": "ipython3",
   "version": "3.6.4"
  }
 },
 "nbformat": 4,
 "nbformat_minor": 2
}
