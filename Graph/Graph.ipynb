{
 "cells": [
  {
   "cell_type": "markdown",
   "metadata": {},
   "source": [
    "# Graph Algorithm"
   ]
  },
  {
   "cell_type": "markdown",
   "metadata": {},
   "source": [
    "When solving graph problems, the first thing we need consider is using which data structure to represent the graph, because different structure influences the complexity of accessing and change the data.\n",
    "\n",
    "Here are some of the representations we use frequently:\n",
    "\n",
    "- Nodes and Edges List\n",
    "- Adjacent List\n",
    "\n",
    "Sometime we need to find the neighborhood of a specific node very often, using adjacent list can be very efficient in such situation."
   ]
  },
  {
   "cell_type": "code",
   "execution_count": 7,
   "metadata": {
    "collapsed": true
   },
   "outputs": [],
   "source": [
    "class Graph(object):\n",
    "    def __init__(self, edges):\n",
    "        # Nodes and Edges List Representation\n",
    "        self.edges = edges\n",
    "        self.nodes = set()\n",
    "        for i, j in edges:\n",
    "            self.nodes.add(i)\n",
    "            self.nodes.add(j)\n",
    "            \n",
    "    def generate_adj_list(self):\n",
    "        # Adjacent List Representation\n",
    "        self.adj = [set() for _ in range(self.number_of_nodes())]\n",
    "        for i, j in edges:\n",
    "            self.adj[i].add(j)\n",
    "            self.adj[j].add(i)\n",
    "    \n",
    "    def number_of_nodes(self):\n",
    "        return len(self.nodes)\n",
    "    \n",
    "    def number_of_edges(self):\n",
    "        return len(self.edges)\n",
    "    \n",
    "    def get_adj_list(self):\n",
    "        return self.adj"
   ]
  },
  {
   "cell_type": "code",
   "execution_count": 9,
   "metadata": {},
   "outputs": [
    {
     "name": "stdout",
     "output_type": "stream",
     "text": [
      "[{1}, {0, 2, 3}, {1}, {1}]\n"
     ]
    }
   ],
   "source": [
    "edges = [(0,1),(1,2),(1,3)]\n",
    "graph = Graph(edges)\n",
    "graph.generate_adj_list()\n",
    "print(graph.get_adj_list())"
   ]
  },
  {
   "cell_type": "markdown",
   "metadata": {},
   "source": [
    "## Searching"
   ]
  },
  {
   "cell_type": "markdown",
   "metadata": {},
   "source": [
    "The core of solving graph problem is searching the graph."
   ]
  },
  {
   "cell_type": "markdown",
   "metadata": {},
   "source": [
    "Example [link](https://leetcode.com/problems/evaluate-division/description/):\n",
    "\n",
    "While search, you need to make sure every node or edge (the max one) only being visited once."
   ]
  },
  {
   "cell_type": "code",
   "execution_count": null,
   "metadata": {
    "collapsed": true
   },
   "outputs": [],
   "source": [
    "class Solution:\n",
    "    def calcEquation(self, equations, values, queries):\n",
    "        \"\"\"\n",
    "        :type equations: List[List[str]]\n",
    "        :type values: List[float]\n",
    "        :type queries: List[List[str]]\n",
    "        :rtype: List[float]\n",
    "        \"\"\"\n",
    "        adj = {}\n",
    "        for i in range(len(values)):\n",
    "            a, b = equations[i]\n",
    "            v = values[i]\n",
    "            if a not in adj:\n",
    "                adj[a] = {}\n",
    "            adj[a][b] = v\n",
    "            if b not in adj:\n",
    "                adj[b] = {}\n",
    "            adj[b][a] = 1.0/v\n",
    "        answer = []\n",
    "        for a,b in queries:\n",
    "            if a not in adj or b not in adj:\n",
    "                answer.append(-1.0)\n",
    "            elif a == b: \n",
    "                answer.append(1.0)\n",
    "            else:\n",
    "                bfsqueue = []\n",
    "                visited = []\n",
    "                found = False\n",
    "                bfsqueue.append((a, 1.0))\n",
    "                while len(bfsqueue) > 0:\n",
    "                    currentnode, currentvalue = bfsqueue.pop(0)\n",
    "                    while len(bfsqueue) > 0 and currentnode in visited:\n",
    "                        currentnode, currentvalue = bfsqueue.pop(0)\n",
    "                    if currentnode in visited:\n",
    "                        break\n",
    "                    visited.append(currentnode)\n",
    "                    if b in adj[currentnode]:\n",
    "                        currentvalue *= adj[currentnode][b]\n",
    "                        found = True\n",
    "                        break\n",
    "                    else:\n",
    "                        for nextlink in adj[currentnode]:\n",
    "                            if nextlink not in visited:\n",
    "                                tempv = currentvalue * adj[currentnode][nextlink]\n",
    "                                bfsqueue.append((nextlink, tempv))\n",
    "                if found:\n",
    "                    answer.append(currentvalue)\n",
    "                else:\n",
    "                    answer.append(-1.0)\n",
    "        return answer"
   ]
  },
  {
   "cell_type": "markdown",
   "metadata": {},
   "source": [
    "Example: [link](https://leetcode.com/problems/reconstruct-itinerary/description/)"
   ]
  },
  {
   "cell_type": "code",
   "execution_count": 201,
   "metadata": {
    "collapsed": true
   },
   "outputs": [],
   "source": [
    "class Solution(object):\n",
    "    def findItinerary(self, tickets):\n",
    "        \"\"\"\n",
    "        :type tickets: List[List[str]]\n",
    "        :rtype: List[str]\n",
    "        \"\"\"\n",
    "        airports = set()\n",
    "        for i, j in tickets:\n",
    "            airports.add(i)\n",
    "            airports.add(j)\n",
    "        adj = {}\n",
    "        for airport in airports:\n",
    "            adj[airport] = []\n",
    "        for i, j in tickets:\n",
    "            adj[i].append(j)\n",
    "        for airport in airports:\n",
    "            adj[airport].sort()\n",
    "        itinerary = []\n",
    "        itinerary.append('JFK')\n",
    "        current = 'JFK'\n",
    "        itinerary.extend(self.innersearch(len(tickets), current, adj))\n",
    "        return itinerary\n",
    "    \n",
    "    def innersearch(self, ticketnumber, current, adj):\n",
    "        itinerary = []\n",
    "        while len(adj[current]) == 1:\n",
    "            current = adj[current].pop(0)\n",
    "            itinerary.append(current)\n",
    "        if len(adj[current]) == 0:\n",
    "            return itinerary\n",
    "        length = len(adj[current])\n",
    "        ticketnumber -= len(itinerary)\n",
    "        for i in range(length):\n",
    "            nextair = adj[current][i]\n",
    "            tempadj = {}\n",
    "            # Deep copy\n",
    "            for key in adj:\n",
    "                tempadj[key] = adj[key][:]\n",
    "            tempadj[current].remove(nextair)\n",
    "            lateritinerary = self.innersearch(ticketnumber-1, nextair, tempadj)\n",
    "            if len(lateritinerary) == ticketnumber-1:\n",
    "                itinerary.append(nextair)\n",
    "                itinerary.extend(lateritinerary)\n",
    "                break\n",
    "        return itinerary"
   ]
  },
  {
   "cell_type": "code",
   "execution_count": 202,
   "metadata": {},
   "outputs": [
    {
     "data": {
      "text/plain": [
       "['JFK',\n",
       " 'AXA',\n",
       " 'AUA',\n",
       " 'ADL',\n",
       " 'ANU',\n",
       " 'AUA',\n",
       " 'ANU',\n",
       " 'EZE',\n",
       " 'ADL',\n",
       " 'EZE',\n",
       " 'ANU',\n",
       " 'JFK',\n",
       " 'AXA',\n",
       " 'EZE',\n",
       " 'TIA',\n",
       " 'AUA',\n",
       " 'AXA',\n",
       " 'TIA',\n",
       " 'ADL',\n",
       " 'EZE',\n",
       " 'HBA']"
      ]
     },
     "execution_count": 202,
     "metadata": {},
     "output_type": "execute_result"
    }
   ],
   "source": [
    "tickets = [[\"JFK\",\"KUL\"],[\"JFK\",\"NRT\"],[\"NRT\",\"JFK\"]]\n",
    "tickets2 = [[\"MUC\",\"LHR\"],[\"JFK\",\"MUC\"],[\"SFO\",\"SJC\"],[\"LHR\",\"SFO\"]]\n",
    "tickets3 = [[\"EZE\",\"AXA\"],[\"TIA\",\"ANU\"],[\"ANU\",\"JFK\"],[\"JFK\",\"ANU\"],[\"ANU\",\"EZE\"],[\"TIA\",\"ANU\"],[\"AXA\",\"TIA\"],[\"TIA\",\"JFK\"],[\"ANU\",\"TIA\"],[\"JFK\",\"TIA\"]]\n",
    "tickets4 = [[\"EZE\",\"TIA\"],[\"EZE\",\"HBA\"],[\"AXA\",\"TIA\"],[\"JFK\",\"AXA\"],[\"ANU\",\"JFK\"],[\"ADL\",\"ANU\"],[\"TIA\",\"AUA\"],[\"ANU\",\"AUA\"],[\"ADL\",\"EZE\"],[\"ADL\",\"EZE\"],[\"EZE\",\"ADL\"],[\"AXA\",\"EZE\"],[\"AUA\",\"AXA\"],[\"JFK\",\"AXA\"],[\"AXA\",\"AUA\"],[\"AUA\",\"ADL\"],[\"ANU\",\"EZE\"],[\"TIA\",\"ADL\"],[\"EZE\",\"ANU\"],[\"AUA\",\"ANU\"]]\n",
    "solution = Solution()\n",
    "solution.findItinerary(tickets4)"
   ]
  },
  {
   "cell_type": "markdown",
   "metadata": {},
   "source": [
    "### Eulerian path problem"
   ]
  },
  {
   "cell_type": "markdown",
   "metadata": {},
   "source": [
    "### Topological sort"
   ]
  },
  {
   "cell_type": "code",
   "execution_count": null,
   "metadata": {
    "collapsed": true
   },
   "outputs": [],
   "source": []
  }
 ],
 "metadata": {
  "kernelspec": {
   "display_name": "Python 3",
   "language": "python",
   "name": "python3"
  },
  "language_info": {
   "codemirror_mode": {
    "name": "ipython",
    "version": 3
   },
   "file_extension": ".py",
   "mimetype": "text/x-python",
   "name": "python",
   "nbconvert_exporter": "python",
   "pygments_lexer": "ipython3",
   "version": "3.6.4"
  }
 },
 "nbformat": 4,
 "nbformat_minor": 2
}
