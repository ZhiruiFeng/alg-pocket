{
 "cells": [
  {
   "cell_type": "markdown",
   "metadata": {},
   "source": [
    "# Graph Algorithm"
   ]
  },
  {
   "cell_type": "markdown",
   "metadata": {},
   "source": [
    "When solving graph problems, the first thing we need consider is using which data structure to represent the graph, because different structure influences the complexity of accessing and change the data.\n",
    "\n",
    "Here are some of the representations we use frequently:\n",
    "\n",
    "- Nodes and Edges List\n",
    "- Adjacent List\n",
    "\n",
    "Sometime we need to find the neighborhood of a specific node very often, using adjacent list can be very efficient in such situation."
   ]
  },
  {
   "cell_type": "code",
   "execution_count": 7,
   "metadata": {
    "collapsed": true
   },
   "outputs": [],
   "source": [
    "class Graph(object):\n",
    "    def __init__(self, edges):\n",
    "        # Nodes and Edges List Representation\n",
    "        self.edges = edges\n",
    "        self.nodes = set()\n",
    "        for i, j in edges:\n",
    "            self.nodes.add(i)\n",
    "            self.nodes.add(j)\n",
    "            \n",
    "    def generate_adj_list(self):\n",
    "        # Adjacent List Representation\n",
    "        self.adj = [set() for _ in range(self.number_of_nodes())]\n",
    "        for i, j in edges:\n",
    "            self.adj[i].add(j)\n",
    "            self.adj[j].add(i)\n",
    "    \n",
    "    def number_of_nodes(self):\n",
    "        return len(self.nodes)\n",
    "    \n",
    "    def number_of_edges(self):\n",
    "        return len(self.edges)\n",
    "    \n",
    "    def get_adj_list(self):\n",
    "        return self.adj"
   ]
  },
  {
   "cell_type": "code",
   "execution_count": 9,
   "metadata": {},
   "outputs": [
    {
     "name": "stdout",
     "output_type": "stream",
     "text": [
      "[{1}, {0, 2, 3}, {1}, {1}]\n"
     ]
    }
   ],
   "source": [
    "edges = [(0,1),(1,2),(1,3)]\n",
    "graph = Graph(edges)\n",
    "graph.generate_adj_list()\n",
    "print(graph.get_adj_list())"
   ]
  },
  {
   "cell_type": "code",
   "execution_count": null,
   "metadata": {
    "collapsed": true
   },
   "outputs": [],
   "source": []
  }
 ],
 "metadata": {
  "kernelspec": {
   "display_name": "Python 3",
   "language": "python",
   "name": "python3"
  },
  "language_info": {
   "codemirror_mode": {
    "name": "ipython",
    "version": 3
   },
   "file_extension": ".py",
   "mimetype": "text/x-python",
   "name": "python",
   "nbconvert_exporter": "python",
   "pygments_lexer": "ipython3",
   "version": "3.6.4"
  }
 },
 "nbformat": 4,
 "nbformat_minor": 2
}
