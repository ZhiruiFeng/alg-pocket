{
 "cells": [
  {
   "cell_type": "markdown",
   "metadata": {},
   "source": [
    "# Number Theory"
   ]
  },
  {
   "cell_type": "markdown",
   "metadata": {},
   "source": [
    "## Prime Number:"
   ]
  },
  {
   "cell_type": "code",
   "execution_count": 3,
   "metadata": {},
   "outputs": [],
   "source": [
    "def isPrime(num):\n",
    "    return num >1 and all(num%d !=0 for d in range(2, int(num ** 0.5)+1))"
   ]
  },
  {
   "cell_type": "code",
   "execution_count": 5,
   "metadata": {},
   "outputs": [
    {
     "data": {
      "text/plain": [
       "True"
      ]
     },
     "execution_count": 5,
     "metadata": {},
     "output_type": "execute_result"
    }
   ],
   "source": [
    "isPrime(101)"
   ]
  },
  {
   "cell_type": "markdown",
   "metadata": {},
   "source": [
    "## Palindrome Number:\n",
    "\n",
    "Using the way of generating to find a Palindrome number is much more faster than iterating and checking."
   ]
  },
  {
   "cell_type": "code",
   "execution_count": 26,
   "metadata": {},
   "outputs": [],
   "source": [
    "def isPalindrome(num):\n",
    "    strnum = str(num)\n",
    "    length = len(strnum)\n",
    "    medium = int(length/2)\n",
    "    for i in range(medium):\n",
    "        if strnum[i] != strnum[length-i-1]:\n",
    "            return False\n",
    "    return True\n",
    "\n",
    "def nextPalindrome(num):\n",
    "    strnum = str(num)\n",
    "    length = len(strnum)\n",
    "    medium = int(length/2)\n",
    "    if not isPalindrome(num):\n",
    "        if length%2 == 0:\n",
    "            palin = int(strnum[:medium]+strnum[:medium][::-1])\n",
    "        else:\n",
    "            palin = int(strnum[:medium+1]+strnum[:medium][::-1])\n",
    "        if palin > num:\n",
    "            return palin\n",
    "        num = palin\n",
    "        strnum = str(palin)\n",
    "    if num == 10**length -1:\n",
    "        return 10**length+1\n",
    "    if length%2 == 0:\n",
    "        # For even numbers:\n",
    "        pre = str(int(strnum[:medium])+1)\n",
    "        return int(pre+pre[::-1])\n",
    "    else:\n",
    "        # For odd numbers:\n",
    "        pre = str(int(strnum[:medium+1])+1)\n",
    "        return int(pre+pre[-2::-1])"
   ]
  },
  {
   "cell_type": "code",
   "execution_count": 27,
   "metadata": {},
   "outputs": [
    {
     "name": "stdout",
     "output_type": "stream",
     "text": [
      "9\n",
      "11\n",
      "33\n",
      "44\n",
      "44\n",
      "101\n",
      "131\n",
      "141\n",
      "141\n",
      "1001\n"
     ]
    }
   ],
   "source": [
    "print(nextPalindrome(8))\n",
    "print(nextPalindrome(9))\n",
    "print(nextPalindrome(32))\n",
    "print(nextPalindrome(33))\n",
    "print(nextPalindrome(34))\n",
    "print(nextPalindrome(99))\n",
    "print(nextPalindrome(130))\n",
    "print(nextPalindrome(131))\n",
    "print(nextPalindrome(132))\n",
    "print(nextPalindrome(999))"
   ]
  },
  {
   "cell_type": "markdown",
   "metadata": {},
   "source": [
    "### Prime Palindrome\n",
    "\n",
    "Problem [Link](https://leetcode.com/problems/prime-palindrome/solution/):"
   ]
  },
  {
   "cell_type": "code",
   "execution_count": 28,
   "metadata": {},
   "outputs": [],
   "source": [
    "def primePalindrome(num):\n",
    "    if num == 1: return 2\n",
    "    if isPalindrome(num) and isPrime(num): return num\n",
    "    while True:\n",
    "        num = nextPalindrome(num)\n",
    "        if isPrime(num):\n",
    "            return num"
   ]
  },
  {
   "cell_type": "code",
   "execution_count": 31,
   "metadata": {},
   "outputs": [
    {
     "data": {
      "text/plain": [
       "100030001"
      ]
     },
     "execution_count": 31,
     "metadata": {},
     "output_type": "execute_result"
    }
   ],
   "source": [
    "primePalindrome(99988999)"
   ]
  },
  {
   "cell_type": "code",
   "execution_count": null,
   "metadata": {},
   "outputs": [],
   "source": []
  }
 ],
 "metadata": {
  "kernelspec": {
   "display_name": "Python 3",
   "language": "python",
   "name": "python3"
  },
  "language_info": {
   "codemirror_mode": {
    "name": "ipython",
    "version": 3
   },
   "file_extension": ".py",
   "mimetype": "text/x-python",
   "name": "python",
   "nbconvert_exporter": "python",
   "pygments_lexer": "ipython3",
   "version": "3.6.4"
  }
 },
 "nbformat": 4,
 "nbformat_minor": 2
}
