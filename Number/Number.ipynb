{
 "cells": [
  {
   "cell_type": "markdown",
   "metadata": {},
   "source": [
    "# Number Theory"
   ]
  },
  {
   "cell_type": "markdown",
   "metadata": {},
   "source": [
    "## Prime Number:"
   ]
  },
  {
   "cell_type": "code",
   "execution_count": 3,
   "metadata": {},
   "outputs": [],
   "source": [
    "def isPrime(num):\n",
    "    return num >1 and all(num%d !=0 for d in range(2, int(num ** 0.5)+1))"
   ]
  },
  {
   "cell_type": "code",
   "execution_count": 5,
   "metadata": {},
   "outputs": [
    {
     "data": {
      "text/plain": [
       "True"
      ]
     },
     "execution_count": 5,
     "metadata": {},
     "output_type": "execute_result"
    }
   ],
   "source": [
    "isPrime(101)"
   ]
  },
  {
   "cell_type": "markdown",
   "metadata": {},
   "source": [
    "## Palindrome Number:\n",
    "\n",
    "Using the way of generating to find a Palindrome number is much more faster than iterating and checking."
   ]
  },
  {
   "cell_type": "code",
   "execution_count": 26,
   "metadata": {},
   "outputs": [],
   "source": [
    "def isPalindrome(num):\n",
    "    strnum = str(num)\n",
    "    length = len(strnum)\n",
    "    medium = int(length/2)\n",
    "    for i in range(medium):\n",
    "        if strnum[i] != strnum[length-i-1]:\n",
    "            return False\n",
    "    return True\n",
    "\n",
    "def nextPalindrome(num):\n",
    "    strnum = str(num)\n",
    "    length = len(strnum)\n",
    "    medium = int(length/2)\n",
    "    if not isPalindrome(num):\n",
    "        if length%2 == 0:\n",
    "            palin = int(strnum[:medium]+strnum[:medium][::-1])\n",
    "        else:\n",
    "            palin = int(strnum[:medium+1]+strnum[:medium][::-1])\n",
    "        if palin > num:\n",
    "            return palin\n",
    "        num = palin\n",
    "        strnum = str(palin)\n",
    "    if num == 10**length -1:\n",
    "        return 10**length+1\n",
    "    if length%2 == 0:\n",
    "        # For even numbers:\n",
    "        pre = str(int(strnum[:medium])+1)\n",
    "        return int(pre+pre[::-1])\n",
    "    else:\n",
    "        # For odd numbers:\n",
    "        pre = str(int(strnum[:medium+1])+1)\n",
    "        return int(pre+pre[-2::-1])"
   ]
  },
  {
   "cell_type": "code",
   "execution_count": 27,
   "metadata": {},
   "outputs": [
    {
     "name": "stdout",
     "output_type": "stream",
     "text": [
      "9\n",
      "11\n",
      "33\n",
      "44\n",
      "44\n",
      "101\n",
      "131\n",
      "141\n",
      "141\n",
      "1001\n"
     ]
    }
   ],
   "source": [
    "print(nextPalindrome(8))\n",
    "print(nextPalindrome(9))\n",
    "print(nextPalindrome(32))\n",
    "print(nextPalindrome(33))\n",
    "print(nextPalindrome(34))\n",
    "print(nextPalindrome(99))\n",
    "print(nextPalindrome(130))\n",
    "print(nextPalindrome(131))\n",
    "print(nextPalindrome(132))\n",
    "print(nextPalindrome(999))"
   ]
  },
  {
   "cell_type": "markdown",
   "metadata": {},
   "source": [
    "### Prime Palindrome\n",
    "\n",
    "Problem [Link](https://leetcode.com/problems/prime-palindrome/solution/):"
   ]
  },
  {
   "cell_type": "code",
   "execution_count": 28,
   "metadata": {},
   "outputs": [],
   "source": [
    "def primePalindrome(num):\n",
    "    if num == 1: return 2\n",
    "    if isPalindrome(num) and isPrime(num): return num\n",
    "    while True:\n",
    "        num = nextPalindrome(num)\n",
    "        if isPrime(num):\n",
    "            return num"
   ]
  },
  {
   "cell_type": "code",
   "execution_count": 31,
   "metadata": {},
   "outputs": [
    {
     "data": {
      "text/plain": [
       "100030001"
      ]
     },
     "execution_count": 31,
     "metadata": {},
     "output_type": "execute_result"
    }
   ],
   "source": [
    "primePalindrome(99988999)"
   ]
  },
  {
   "cell_type": "markdown",
   "metadata": {},
   "source": [
    "## Partition Problem"
   ]
  },
  {
   "cell_type": "code",
   "execution_count": 30,
   "metadata": {},
   "outputs": [],
   "source": [
    "class Solution(object):\n",
    "    def makesquare(self, nums):\n",
    "        \"\"\"\n",
    "        :type nums: List[int]\n",
    "        :rtype: bool\n",
    "        \"\"\"\n",
    "        s = sum(nums)\n",
    "        if s%4 or len(nums) < 4:\n",
    "            return False\n",
    "        each = int(s/4)\n",
    "        finds = [each, each, each, each]\n",
    "        nums.sort()\n",
    "        def dfs(nums, finds):\n",
    "            if not nums:\n",
    "                return True\n",
    "            if len(nums) < len(finds):\n",
    "                return False\n",
    "            cur = nums.pop()\n",
    "            for i in range(len(finds)):\n",
    "                if cur < finds[i]:\n",
    "                    newfind = finds[:]\n",
    "                    newfind[i] -= cur\n",
    "                    if dfs(nums[:], newfind):\n",
    "                        return True\n",
    "                elif cur == finds[i]:\n",
    "                    newfind = finds[:]\n",
    "                    newfind.pop(i)\n",
    "                    if dfs(nums[:], newfind):\n",
    "                        return True\n",
    "            return False\n",
    "        return dfs(nums, finds)"
   ]
  },
  {
   "cell_type": "code",
   "execution_count": 31,
   "metadata": {},
   "outputs": [],
   "source": [
    "so = Solution()"
   ]
  },
  {
   "cell_type": "code",
   "execution_count": 32,
   "metadata": {},
   "outputs": [
    {
     "data": {
      "text/plain": [
       "False"
      ]
     },
     "execution_count": 32,
     "metadata": {},
     "output_type": "execute_result"
    }
   ],
   "source": [
    "nums = [5969561,8742425,2513572,3352059,9084275,2194427,1017540,2324577,6810719,8936380,7868365,2755770,9954463,9912280,4713511]\n",
    "so.makesquare(nums)"
   ]
  },
  {
   "cell_type": "markdown",
   "metadata": {},
   "source": [
    "Problem [link](https://leetcode.com/problems/target-sum/solution/):"
   ]
  },
  {
   "cell_type": "code",
   "execution_count": 46,
   "metadata": {},
   "outputs": [],
   "source": [
    "class Solution(object):\n",
    "    def findTargetSumWays(self, nums, S):\n",
    "        \"\"\"\n",
    "        :type nums: List[int]\n",
    "        :type S: int\n",
    "        :rtype: int\n",
    "        \"\"\"\n",
    "        if not nums:\n",
    "            return 0\n",
    "        length = len(nums)\n",
    "        memo = [0]*length\n",
    "        memo[length-1] = nums[-1]\n",
    "        for i in range(length-1):\n",
    "            memo[length-2-i] = memo[length-1-i]+nums[length-2-i]\n",
    "        def find(nums, i, s):\n",
    "            n = nums[i]\n",
    "            t = 0\n",
    "            if i == len(nums)-1:\n",
    "                if not s - n:\n",
    "                    t+=1\n",
    "                if not s + n:\n",
    "                    t+=1\n",
    "                return t\n",
    "            if abs(s+n) <= memo[i+1]:\n",
    "                t += find(nums, i+1, s+n)\n",
    "            if abs(s-n) <= memo[i+1]:\n",
    "                t += find(nums, i+1, s-n)\n",
    "            return t\n",
    "        \n",
    "        return find(nums, 0, S)"
   ]
  },
  {
   "cell_type": "code",
   "execution_count": 47,
   "metadata": {},
   "outputs": [],
   "source": [
    "so = Solution()"
   ]
  },
  {
   "cell_type": "code",
   "execution_count": 48,
   "metadata": {},
   "outputs": [
    {
     "data": {
      "text/plain": [
       "6317"
      ]
     },
     "execution_count": 48,
     "metadata": {},
     "output_type": "execute_result"
    }
   ],
   "source": [
    "nums = [1,1,1,1,1]\n",
    "S = 3\n",
    "nums = [45,18,27,39,42,19,1,35,32,16,7,6,25,41,27,18,38,6,42,10]\n",
    "S = 49\n",
    "nums = [9,7,0,3,9,8,6,5,7,6]\n",
    "S = 2\n",
    "\n",
    "nums = [8,48,11,47,26,12,16,39,38,50,21,12,34,1,28,1,3,9,17,50]\n",
    "S = 3\n",
    "so.findTargetSumWays(nums, S)"
   ]
  },
  {
   "cell_type": "markdown",
   "metadata": {},
   "source": [
    "**Summary**\n",
    "\n",
    "Prunning is very important. Blow is a better version, which has translated it into a bag problem."
   ]
  },
  {
   "cell_type": "code",
   "execution_count": null,
   "metadata": {},
   "outputs": [],
   "source": [
    "class Solution(object):\n",
    "    def findTargetSumWays(self, nums, S):\n",
    "        \"\"\"\n",
    "        :type nums: List[int]\n",
    "        :type S: int\n",
    "        :rtype: int\n",
    "        \"\"\"\n",
    "        if sum(nums) < S or (sum(nums) + S) % 2 != 0:\n",
    "            return 0\n",
    "        target = (sum(nums) + S) / 2\n",
    "        return self.subSetNum(nums, target)\n",
    "\n",
    "    def subSetNum(self, nums, s):\n",
    "        dp = [0] * (s + 1)\n",
    "        dp[0] = 1\n",
    "        for num in nums:\n",
    "            for t in range(s, num - 1, -1):\n",
    "                dp[t] += dp[t - num]\n",
    "        return dp[s]"
   ]
  }
 ],
 "metadata": {
  "kernelspec": {
   "display_name": "Python 3",
   "language": "python",
   "name": "python3"
  },
  "language_info": {
   "codemirror_mode": {
    "name": "ipython",
    "version": 3
   },
   "file_extension": ".py",
   "mimetype": "text/x-python",
   "name": "python",
   "nbconvert_exporter": "python",
   "pygments_lexer": "ipython3",
   "version": "3.6.4"
  }
 },
 "nbformat": 4,
 "nbformat_minor": 2
}
