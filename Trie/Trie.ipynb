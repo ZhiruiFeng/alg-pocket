{
 "cells": [
  {
   "cell_type": "markdown",
   "metadata": {},
   "source": [
    "# Trie -- Prefix Tree\n",
    "\n",
    "This is a good data structure for saving prefix of strings.\n",
    "\n",
    "The main functions include:\n",
    "\n",
    "- Insert: words\n",
    "- Search: words\n",
    "- Search: prefix"
   ]
  },
  {
   "cell_type": "code",
   "execution_count": 1,
   "metadata": {
    "collapsed": true
   },
   "outputs": [],
   "source": [
    "class Trie(object):\n",
    "    def __init__(self):\n",
    "        self.next = {}\n",
    "        self.isend = False\n",
    "        self.word = None\n",
    "    \n",
    "    def insert(self, word):\n",
    "        cur = self\n",
    "        for c in word:\n",
    "            if not c in cur.next:\n",
    "                cur.next[c] = Trie()\n",
    "            cur = cur.next[c]\n",
    "        cur.next['#'] = '#' #Indicate the end of words \n",
    "        cur.isend = True\n",
    "        cur.word = word\n",
    "    \n",
    "    def searchWord(self, word):\n",
    "        cur = self\n",
    "        for c in word:\n",
    "            if not c in cur.next:\n",
    "                return False\n",
    "            cur = cur.next[c]\n",
    "        return '#' in cur.next \n",
    "    \n",
    "    def searchPrefix(self, prefix):\n",
    "        cur = self\n",
    "        for c in prefix:\n",
    "            if not c in cur.next:\n",
    "                return False\n",
    "            cur = cur.next[c]\n",
    "        return True"
   ]
  },
  {
   "cell_type": "markdown",
   "metadata": {},
   "source": [
    "**Note:**\n",
    "\n",
    "Here we use the `#` as a signal of we have saved a string endding at this position. \n",
    "But we can also give `Trie()` variables to indicate whether there exist a word, and what this word is. "
   ]
  },
  {
   "cell_type": "code",
   "execution_count": null,
   "metadata": {
    "collapsed": true
   },
   "outputs": [],
   "source": []
  }
 ],
 "metadata": {
  "kernelspec": {
   "display_name": "Python 3",
   "language": "python",
   "name": "python3"
  },
  "language_info": {
   "codemirror_mode": {
    "name": "ipython",
    "version": 3
   },
   "file_extension": ".py",
   "mimetype": "text/x-python",
   "name": "python",
   "nbconvert_exporter": "python",
   "pygments_lexer": "ipython3",
   "version": "3.6.4"
  }
 },
 "nbformat": 4,
 "nbformat_minor": 2
}
