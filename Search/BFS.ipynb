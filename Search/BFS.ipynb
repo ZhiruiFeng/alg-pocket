{
 "cells": [
  {
   "cell_type": "markdown",
   "metadata": {},
   "source": [
    "# Breadth First Search"
   ]
  },
  {
   "cell_type": "markdown",
   "metadata": {},
   "source": [
    "Layer by layer, using queue as the data structure to store the nodes."
   ]
  },
  {
   "cell_type": "markdown",
   "metadata": {},
   "source": [
    "### Using the operation times as layer"
   ]
  },
  {
   "cell_type": "markdown",
   "metadata": {},
   "source": [
    "[Perfect Squares](https://leetcode.com/problems/perfect-squares/description/)"
   ]
  },
  {
   "cell_type": "code",
   "execution_count": 1,
   "metadata": {},
   "outputs": [],
   "source": [
    "def numSquares(self, n):\n",
    "    if n < 2:\n",
    "        return n\n",
    "    lst = []\n",
    "    i = 1\n",
    "    while i * i <= n:\n",
    "        lst.append( i * i )\n",
    "        i += 1\n",
    "    cnt = 0\n",
    "    toCheck = {n}\n",
    "    while toCheck:\n",
    "        cnt += 1\n",
    "        temp = set()\n",
    "        for x in toCheck:\n",
    "            for y in lst:\n",
    "                if x == y:\n",
    "                    return cnt\n",
    "                if x < y:\n",
    "                    break\n",
    "                temp.add(x-y)\n",
    "        toCheck = temp\n",
    "\n",
    "    return cnt"
   ]
  },
  {
   "cell_type": "code",
   "execution_count": 15,
   "metadata": {},
   "outputs": [
    {
     "data": {
      "text/plain": [
       "0"
      ]
     },
     "execution_count": 15,
     "metadata": {},
     "output_type": "execute_result"
    }
   ],
   "source": [
    "int(3/-100)"
   ]
  },
  {
   "cell_type": "code",
   "execution_count": null,
   "metadata": {},
   "outputs": [],
   "source": []
  }
 ],
 "metadata": {
  "kernelspec": {
   "display_name": "Python 3",
   "language": "python",
   "name": "python3"
  },
  "language_info": {
   "codemirror_mode": {
    "name": "ipython",
    "version": 3
   },
   "file_extension": ".py",
   "mimetype": "text/x-python",
   "name": "python",
   "nbconvert_exporter": "python",
   "pygments_lexer": "ipython3",
   "version": "3.6.4"
  }
 },
 "nbformat": 4,
 "nbformat_minor": 2
}
