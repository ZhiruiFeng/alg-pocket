{
 "cells": [
  {
   "cell_type": "markdown",
   "metadata": {},
   "source": [
    "# Union Find Set"
   ]
  },
  {
   "cell_type": "code",
   "execution_count": 30,
   "metadata": {
    "collapsed": true
   },
   "outputs": [],
   "source": [
    "def solution(A, K, M):\n",
    "    n = len(A)\n",
    "    # Edge conditions\n",
    "    if M == 1 and K <= n:\n",
    "        return n\n",
    "    elif M*K >= n:\n",
    "        return -1\n",
    "    # How many flowers are there using this position as boundary\n",
    "    boundary = [0]*n\n",
    "    ans = -1\n",
    "    cntall = 0\n",
    "    cntlong = 0\n",
    "    for i, pos in enumerate(A, 1):\n",
    "        pos -= 1\n",
    "        if (pos<n-1 and boundary[pos+1] > 0) and (pos == 0 or boundary[pos-1] == 0):\n",
    "            # Right direction merge\n",
    "            boundary[pos] = boundary[pos+1] + 1\n",
    "            boundary[pos+boundary[pos]-1] = boundary[pos]\n",
    "            if boundary[pos] == K:\n",
    "                cntlong += 1\n",
    "        elif (pos>0 and boundary[pos-1] > 0) and (pos == n-1 or boundary[pos+1] == 0):\n",
    "            # Left direction merge\n",
    "            boundary[pos] = boundary[pos-1] + 1\n",
    "            boundary[pos-boundary[pos]+1] = boundary[pos]\n",
    "            if boundary[pos] == K:\n",
    "                cntlong += 1\n",
    "        elif 0<pos<n-1 and boundary[pos-1] > 0 and boundary[pos+1] > 0:\n",
    "            # Both direction merge\n",
    "            cntall -= 1\n",
    "            left, right = boundary[pos-1], boundary[pos+1]\n",
    "            existlong = 0\n",
    "            existlong += 1 if left >= K else 0\n",
    "            existlong += 1 if right >= K else 0\n",
    "            total = left + right + 1\n",
    "            boundary[pos-left], boundary[pos+right] = total, total\n",
    "            if total >= K and existlong == 0:\n",
    "                cntlong += 1\n",
    "            elif existlong == 2:\n",
    "                cntlong -= 1\n",
    "        else:\n",
    "            # No merge\n",
    "            boundary[pos] = 1\n",
    "            cntall += 1\n",
    "            if boundary[pos] == K:\n",
    "                cntlong += 1\n",
    "        if cntlong == M:\n",
    "            ans = i\n",
    "    return ans"
   ]
  },
  {
   "cell_type": "code",
   "execution_count": 31,
   "metadata": {
    "collapsed": true
   },
   "outputs": [],
   "source": [
    "A = [1,3,4,5,2,6]\n",
    "K = 3\n",
    "M = 2"
   ]
  },
  {
   "cell_type": "code",
   "execution_count": 32,
   "metadata": {},
   "outputs": [
    {
     "data": {
      "text/plain": [
       "-1"
      ]
     },
     "execution_count": 32,
     "metadata": {},
     "output_type": "execute_result"
    }
   ],
   "source": [
    "solution(A, K, M)"
   ]
  },
  {
   "cell_type": "code",
   "execution_count": null,
   "metadata": {
    "collapsed": true
   },
   "outputs": [],
   "source": []
  }
 ],
 "metadata": {
  "kernelspec": {
   "display_name": "Python 3",
   "language": "python",
   "name": "python3"
  },
  "language_info": {
   "codemirror_mode": {
    "name": "ipython",
    "version": 3
   },
   "file_extension": ".py",
   "mimetype": "text/x-python",
   "name": "python",
   "nbconvert_exporter": "python",
   "pygments_lexer": "ipython3",
   "version": "3.6.4"
  }
 },
 "nbformat": 4,
 "nbformat_minor": 2
}
