{
 "cells": [
  {
   "cell_type": "markdown",
   "metadata": {},
   "source": [
    "# Binary Search"
   ]
  },
  {
   "cell_type": "markdown",
   "metadata": {},
   "source": [
    "**Thought:**\n",
    "\n",
    "The core idea here is to make the search space become smaller dramatically, the normal way is to make the search space become only halp of the original one.\n",
    "\n",
    "The prunning depends on the rule governning the array, like sorted."
   ]
  },
  {
   "cell_type": "markdown",
   "metadata": {},
   "source": [
    "### Search space reduction\n",
    "\n",
    "A good problem for search in a sorted matrix, with shows how to reduce the search space wisely. [link](https://leetcode.com/articles/search-a-2d-matrix-ii/)"
   ]
  },
  {
   "cell_type": "code",
   "execution_count": 1,
   "metadata": {
    "collapsed": true
   },
   "outputs": [],
   "source": [
    "class Solution:\n",
    "    def searchMatrix(self, matrix, target):\n",
    "        # an empty matrix obviously does not contain `target` (make this check\n",
    "        # because we want to cache `width` for efficiency's sake)\n",
    "        if len(matrix) == 0 or len(matrix[0]) == 0:\n",
    "            return False\n",
    "\n",
    "        # cache these, as they won't change.\n",
    "        height = len(matrix)\n",
    "        width = len(matrix[0])\n",
    "\n",
    "        # start our \"pointer\" in the bottom-left\n",
    "        row = height-1\n",
    "        col = 0\n",
    "\n",
    "        while col < width and row >= 0:\n",
    "            if matrix[row][col] > target:\n",
    "                row -= 1\n",
    "            elif matrix[row][col] < target:\n",
    "                col += 1\n",
    "            else: # found it\n",
    "                return True\n",
    "        \n",
    "        return False"
   ]
  },
  {
   "cell_type": "markdown",
   "metadata": {},
   "source": [
    "### Make use of binary tree features"
   ]
  },
  {
   "cell_type": "markdown",
   "metadata": {},
   "source": [
    "For complete binary tree, here is a [problem](https://leetcode.com/problems/count-complete-tree-nodes/description/)"
   ]
  },
  {
   "cell_type": "code",
   "execution_count": 2,
   "metadata": {
    "collapsed": true
   },
   "outputs": [],
   "source": [
    "# Definition for a binary tree node.\n",
    "# class TreeNode(object):\n",
    "#     def __init__(self, x):\n",
    "#         self.val = x\n",
    "#         self.left = None\n",
    "#         self.right = None\n",
    "\n",
    "class Solution(object):\n",
    "    def countNodes(self, root):\n",
    "        \"\"\"\n",
    "        :type root: TreeNode\n",
    "        :rtype: int\n",
    "        \"\"\"\n",
    "        if not root:\n",
    "            return 0\n",
    "        ans = 0\n",
    "        layer = 0\n",
    "        def helper(root):\n",
    "            layer = 0\n",
    "            while root:\n",
    "                layer += 1\n",
    "                root = root.right\n",
    "            return layer\n",
    "        ans = 0\n",
    "        while root:\n",
    "            ans += 1\n",
    "            if not root.left and not root.right:\n",
    "                return ans\n",
    "            if root.left and not root.right:\n",
    "                return ans + 1\n",
    "            leftlayer = helper(root.left)\n",
    "            rightlayer = helper(root.right)\n",
    "            if leftlayer == rightlayer:\n",
    "                ans += 2**(rightlayer)-1\n",
    "                root = root.left\n",
    "            elif leftlayer > rightlayer:\n",
    "                ans += 2**(leftlayer)-1\n",
    "                root = root.right"
   ]
  },
  {
   "cell_type": "markdown",
   "metadata": {},
   "source": [
    "### Use binary search to enhance dynamic programming"
   ]
  },
  {
   "cell_type": "markdown",
   "metadata": {},
   "source": [
    "Problem [link](https://leetcode.com/problems/longest-increasing-subsequence/discuss/74824/JavaPython-Binary-search-O(nlogn)-time-with-explanation)"
   ]
  },
  {
   "cell_type": "code",
   "execution_count": 8,
   "metadata": {
    "collapsed": true
   },
   "outputs": [],
   "source": [
    "class Solution(object):\n",
    "    def lengthOfLIS(self, nums):\n",
    "        \"\"\"\n",
    "        :type nums: List[int]\n",
    "        :rtype: int\n",
    "        \"\"\"\n",
    "        n = len(nums)\n",
    "        # dp[i]: for a sequence with length i+1, the last number will be dp[i]\n",
    "        dp = [0]*n\n",
    "        size = 0\n",
    "        for num in nums:\n",
    "            left, right = 0, size\n",
    "            while left < right:\n",
    "                mid = (left+right)//2\n",
    "                if dp[mid] < num:\n",
    "                    left = mid+1\n",
    "                else:\n",
    "                    right = mid\n",
    "            dp[right] = num\n",
    "            size = max(size, right+1)\n",
    "        return size"
   ]
  },
  {
   "cell_type": "code",
   "execution_count": null,
   "metadata": {
    "collapsed": true
   },
   "outputs": [],
   "source": []
  }
 ],
 "metadata": {
  "kernelspec": {
   "display_name": "Python 3",
   "language": "python",
   "name": "python3"
  },
  "language_info": {
   "codemirror_mode": {
    "name": "ipython",
    "version": 3
   },
   "file_extension": ".py",
   "mimetype": "text/x-python",
   "name": "python",
   "nbconvert_exporter": "python",
   "pygments_lexer": "ipython3",
   "version": "3.6.4"
  }
 },
 "nbformat": 4,
 "nbformat_minor": 2
}
