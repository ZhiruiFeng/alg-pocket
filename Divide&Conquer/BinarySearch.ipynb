{
 "cells": [
  {
   "cell_type": "markdown",
   "metadata": {},
   "source": [
    "# Binary Search"
   ]
  },
  {
   "cell_type": "markdown",
   "metadata": {},
   "source": [
    "**Thought:**\n",
    "\n",
    "The core idea here is to make the search space become smaller dramatically, the normal way is to make the search space become only halp of the original one.\n",
    "\n",
    "The prunning depends on the rule governning the array, like sorted."
   ]
  },
  {
   "cell_type": "markdown",
   "metadata": {},
   "source": [
    "### Search space reduction\n",
    "\n",
    "A good problem for search in a sorted matrix, with shows how to reduce the search space wisely. [link](https://leetcode.com/articles/search-a-2d-matrix-ii/)"
   ]
  },
  {
   "cell_type": "code",
   "execution_count": 1,
   "metadata": {
    "collapsed": true
   },
   "outputs": [],
   "source": [
    "class Solution:\n",
    "    def searchMatrix(self, matrix, target):\n",
    "        # an empty matrix obviously does not contain `target` (make this check\n",
    "        # because we want to cache `width` for efficiency's sake)\n",
    "        if len(matrix) == 0 or len(matrix[0]) == 0:\n",
    "            return False\n",
    "\n",
    "        # cache these, as they won't change.\n",
    "        height = len(matrix)\n",
    "        width = len(matrix[0])\n",
    "\n",
    "        # start our \"pointer\" in the bottom-left\n",
    "        row = height-1\n",
    "        col = 0\n",
    "\n",
    "        while col < width and row >= 0:\n",
    "            if matrix[row][col] > target:\n",
    "                row -= 1\n",
    "            elif matrix[row][col] < target:\n",
    "                col += 1\n",
    "            else: # found it\n",
    "                return True\n",
    "        \n",
    "        return False"
   ]
  },
  {
   "cell_type": "markdown",
   "metadata": {},
   "source": [
    "### Make use of binary tree features"
   ]
  },
  {
   "cell_type": "markdown",
   "metadata": {},
   "source": [
    "For complete binary tree, here is a [problem](https://leetcode.com/problems/count-complete-tree-nodes/description/)"
   ]
  },
  {
   "cell_type": "code",
   "execution_count": 2,
   "metadata": {
    "collapsed": true
   },
   "outputs": [],
   "source": [
    "# Definition for a binary tree node.\n",
    "# class TreeNode(object):\n",
    "#     def __init__(self, x):\n",
    "#         self.val = x\n",
    "#         self.left = None\n",
    "#         self.right = None\n",
    "\n",
    "class Solution(object):\n",
    "    def countNodes(self, root):\n",
    "        \"\"\"\n",
    "        :type root: TreeNode\n",
    "        :rtype: int\n",
    "        \"\"\"\n",
    "        if not root:\n",
    "            return 0\n",
    "        ans = 0\n",
    "        layer = 0\n",
    "        def helper(root):\n",
    "            layer = 0\n",
    "            while root:\n",
    "                layer += 1\n",
    "                root = root.right\n",
    "            return layer\n",
    "        ans = 0\n",
    "        while root:\n",
    "            ans += 1\n",
    "            if not root.left and not root.right:\n",
    "                return ans\n",
    "            if root.left and not root.right:\n",
    "                return ans + 1\n",
    "            leftlayer = helper(root.left)\n",
    "            rightlayer = helper(root.right)\n",
    "            if leftlayer == rightlayer:\n",
    "                ans += 2**(rightlayer)-1\n",
    "                root = root.left\n",
    "            elif leftlayer > rightlayer:\n",
    "                ans += 2**(leftlayer)-1\n",
    "                root = root.right"
   ]
  },
  {
   "cell_type": "markdown",
   "metadata": {},
   "source": [
    "### Use binary search to enhance dynamic programming"
   ]
  },
  {
   "cell_type": "markdown",
   "metadata": {},
   "source": [
    "Problem [link](https://leetcode.com/problems/longest-increasing-subsequence/discuss/74824/JavaPython-Binary-search-O(nlogn)-time-with-explanation)"
   ]
  },
  {
   "cell_type": "code",
   "execution_count": 8,
   "metadata": {
    "collapsed": true
   },
   "outputs": [],
   "source": [
    "class Solution(object):\n",
    "    def lengthOfLIS(self, nums):\n",
    "        \"\"\"\n",
    "        :type nums: List[int]\n",
    "        :rtype: int\n",
    "        \"\"\"\n",
    "        n = len(nums)\n",
    "        # dp[i]: for a sequence with length i+1, the last number will be dp[i]\n",
    "        dp = [0]*n\n",
    "        size = 0\n",
    "        for num in nums:\n",
    "            left, right = 0, size\n",
    "            while left < right:\n",
    "                mid = (left+right)//2\n",
    "                if dp[mid] < num:\n",
    "                    left = mid+1\n",
    "                else:\n",
    "                    right = mid\n",
    "            dp[right] = num\n",
    "            size = max(size, right+1)\n",
    "        return size"
   ]
  },
  {
   "cell_type": "markdown",
   "metadata": {},
   "source": [
    "Another [problem](https://leetcode.com/problems/russian-doll-envelopes/description/) with the same idea:"
   ]
  },
  {
   "cell_type": "code",
   "execution_count": 3,
   "metadata": {},
   "outputs": [],
   "source": [
    "class Solution(object):\n",
    "    def maxEnvelopes(self, envelopes):\n",
    "        \"\"\"\n",
    "        :type envelopes: List[List[int]]\n",
    "        :rtype: int\n",
    "        \"\"\"\n",
    "        if not envelopes:\n",
    "            return 0\n",
    "        def check(outside, inside):\n",
    "            return outside[1] > inside[1]\n",
    "        n = len(envelopes)\n",
    "        envelopes.sort(key=lambda v:(v[0], -v[1])) # The non-trival part is how to arrange the order by hight.\n",
    "        dp = []\n",
    "        for env in envelopes:\n",
    "            if not dp:\n",
    "                dp.append(env)\n",
    "            size = len(dp)\n",
    "            left, right = 0, size\n",
    "            while left < right:\n",
    "                mid = (left+right)//2\n",
    "                if check(env, dp[mid]):\n",
    "                    left = mid+1\n",
    "                else:\n",
    "                    right = mid  \n",
    "            if left == size:\n",
    "                dp.append(env)\n",
    "            else:\n",
    "                dp[right] = env\n",
    "        return len(dp)"
   ]
  },
  {
   "cell_type": "markdown",
   "metadata": {
    "collapsed": true
   },
   "source": [
    "### Not only search by index\n",
    "\n",
    "We can also search for a real value and then using binary seach to make it smaller and get the specific answer.\n",
    "\n",
    "Here is a example about search the $k^{th}$ number among two arrays and the median. [link](https://leetcode.com/problems/median-of-two-sorted-arrays/description/)"
   ]
  },
  {
   "cell_type": "code",
   "execution_count": 1,
   "metadata": {},
   "outputs": [],
   "source": [
    "class Solution(object):\n",
    "    def kth(self,A,B,k):\n",
    "        # Here it uses pigeon theory\n",
    "        if not A:\n",
    "            return B[k]\n",
    "        if not B:\n",
    "            return A[k]\n",
    "        ia, ib = len(A)//2, len(B)//2\n",
    "        ma, mb = A[ia], B[ib]\n",
    "        \n",
    "        if ia + ib <k:\n",
    "            if ma > mb:\n",
    "                return self.kth(A,B[ib+1:],k-ib-1)\n",
    "            else:\n",
    "                return self.kth(A[ia+1:],B,k-ia-1)\n",
    "        else:\n",
    "            if ma > mb:\n",
    "                return self.kth(A[:ia],B,k)\n",
    "            else:\n",
    "                return self.kth(A,B[:ib],k)\n",
    "    \n",
    "    def findMedianSortedArrays(self, nums1, nums2):\n",
    "        \"\"\"\n",
    "        :type nums1: List[int]\n",
    "        :type nums2: List[int]\n",
    "        :rtype: float\n",
    "        \"\"\"\n",
    "        l = len(nums1) + len(nums2)\n",
    "        if l%2:\n",
    "            return self.kth(nums1,nums2,l//2)\n",
    "        return (self.kth(nums1,nums2,l//2) + self.kth(nums1,nums2,l//2-1))/2.0"
   ]
  },
  {
   "cell_type": "code",
   "execution_count": 2,
   "metadata": {},
   "outputs": [],
   "source": [
    "def median(A, B):\n",
    "    m, n = len(A), len(B)\n",
    "    if m > n:\n",
    "        A, B, m, n = B, A, n, m\n",
    "    if n == 0:\n",
    "        raise ValueError\n",
    "\n",
    "    imin, imax, half_len = 0, m, (m + n + 1) / 2\n",
    "    while imin <= imax:\n",
    "        i = (imin + imax) / 2\n",
    "        j = half_len - i\n",
    "        # here is a very good judgement for whether we are at the right position\n",
    "        if i < m and B[j-1] > A[i]:\n",
    "            # i is too small, must increase it\n",
    "            imin = i + 1\n",
    "        elif i > 0 and A[i-1] > B[j]:\n",
    "            # i is too big, must decrease it\n",
    "            imax = i - 1\n",
    "        else:\n",
    "            # i is perfect\n",
    "\n",
    "            if i == 0: max_of_left = B[j-1]\n",
    "            elif j == 0: max_of_left = A[i-1]\n",
    "            else: max_of_left = max(A[i-1], B[j-1])\n",
    "\n",
    "            if (m + n) % 2 == 1:\n",
    "                return max_of_left\n",
    "\n",
    "            if i == m: min_of_right = B[j]\n",
    "            elif j == n: min_of_right = A[i]\n",
    "            else: min_of_right = min(A[i], B[j])\n",
    "\n",
    "            return (max_of_left + min_of_right) / 2.0"
   ]
  },
  {
   "cell_type": "code",
   "execution_count": null,
   "metadata": {},
   "outputs": [],
   "source": [
    "# my answer, which is more complex because I didn't find the good stop condition, so I used the bisearch to how many number is smaller.\n",
    "import bisect\n",
    "class Solution(object):\n",
    "    def findMedianSortedArrays(self, nums1, nums2):\n",
    "        \"\"\"\n",
    "        :type nums1: List[int]\n",
    "        :type nums2: List[int]\n",
    "        :rtype: float\n",
    "        \"\"\"\n",
    "        m = len(nums1)\n",
    "        n = len(nums2)\n",
    "        if m == 1 and n == 1:\n",
    "            return float(nums1[0]+nums2[0])/2.0\n",
    "        if m < n:\n",
    "            nums1, nums2, m, n = nums2, nums1, n, m\n",
    "        target = (m+n)//2\n",
    "        even = False\n",
    "        if (m+n)%2==0:\n",
    "            even = True\n",
    "        left, right = 0, m-1\n",
    "        target2 = -1\n",
    "        leftposition = True\n",
    "        while left <= right:\n",
    "            mid = (left+right)//2\n",
    "            target2 = target -mid\n",
    "            index2_left = bisect.bisect_left(nums2, nums1[mid])\n",
    "            index2_right = bisect.bisect_right(nums2, nums1[mid])\n",
    "            if index2_left <= target2 and target2 <= index2_right:\n",
    "                if not even:\n",
    "                    return nums1[mid]\n",
    "                else:\n",
    "                    if mid == 0:\n",
    "                        return float(nums2[target2-1]+nums1[0])/2.0\n",
    "                    elif target2==0:\n",
    "                        return float(nums1[mid] +nums1[mid-1])/2.0\n",
    "                    else:\n",
    "                        return float(max(nums1[mid-1], nums2[target2-1])+nums1[mid])/2.0\n",
    "            elif target2 > index2_right:\n",
    "                left = mid + 1\n",
    "                leftposition = False\n",
    "            elif target2 < index2_left:\n",
    "                right = mid - 1\n",
    "                leftposition = True\n",
    "        left, right = 0, n-1\n",
    "        while left <= right:\n",
    "            mid = (left+right)//2\n",
    "            target1 = target -mid\n",
    "            index1_left = bisect.bisect_left(nums1, nums2[mid])\n",
    "            index1_right = bisect.bisect_right(nums1, nums2[mid])\n",
    "            if index1_left <= target1 and target1 <= index1_right:\n",
    "                if not even:\n",
    "                    return nums2[mid]\n",
    "                else:\n",
    "                    if mid == 0:\n",
    "                        return float(nums1[target1-1]+nums2[0])/2.0\n",
    "                    elif target2==0:\n",
    "                        return float(nums2[mid] +nums2[mid-1])/2.0\n",
    "                    else:\n",
    "                        return float(max(nums2[mid-1], nums1[target1-1])+nums2[mid])/2.0\n",
    "            elif target1 > index1_right:\n",
    "                left = mid + 1\n",
    "            elif target1 < index1_left:\n",
    "                right = mid - 1"
   ]
  },
  {
   "cell_type": "markdown",
   "metadata": {},
   "source": [
    "Another problem of search kth number in a sorted matrix: [link](https://leetcode.com/problems/kth-smallest-element-in-a-sorted-matrix/description/)"
   ]
  },
  {
   "cell_type": "code",
   "execution_count": 3,
   "metadata": {},
   "outputs": [],
   "source": [
    "class Solution(object):\n",
    "    def kthSmallest(self, matrix, k):\n",
    "        \"\"\"\n",
    "        :type matrix: List[List[int]]\n",
    "        :type k: int\n",
    "        :rtype: int\n",
    "        \"\"\"\n",
    "        n = len(matrix)\n",
    "        lo, hi = matrix[0][0], matrix[n-1][n-1]\n",
    "        while lo < hi:\n",
    "            mid = (lo + hi)/2\n",
    "            count = sum(bisect.bisect_right(row, mid) for row in matrix)\n",
    "            #print lo, hi, mid, count\n",
    "            if count == k:\n",
    "                break\n",
    "            if count > k:\n",
    "                hi = mid  \n",
    "            else:\n",
    "                lo = mid + 1\n",
    "        mid = (lo+hi)/2\n",
    "        ans = None\n",
    "        for row in matrix:\n",
    "            i = bisect.bisect_right(row, mid) - 1\n",
    "            if i >= 0 and (ans is None or row[i] > ans):\n",
    "                ans = row[i]\n",
    "        return ans"
   ]
  },
  {
   "cell_type": "markdown",
   "metadata": {},
   "source": [
    "**This is a very interesting approach to find solution:**\n",
    "\n",
    "Here are other problems:\n",
    "\n",
    "- Split Array Largest Sum: [link](https://leetcode.com/explore/learn/card/binary-search/146/more-practices-ii/1042/)\n",
    "- Find K-th Smallest Pair Distance [link](https://leetcode.com/explore/learn/card/binary-search/146/more-practices-ii/1041/)\n",
    "- K-th Smallest Prime Fraction [link](https://leetcode.com/problems/k-th-smallest-prime-fraction/description/)\n"
   ]
  },
  {
   "cell_type": "markdown",
   "metadata": {},
   "source": [
    "#### Using binary search to find a interger answer unrelated to index of array\n",
    "\n",
    "Problem [link](https://leetcode.com/problems/maximum-length-of-repeated-subarray/solution/)"
   ]
  },
  {
   "cell_type": "code",
   "execution_count": 1,
   "metadata": {},
   "outputs": [],
   "source": [
    "# Dynmic programming:\n",
    "\n",
    "class Solution(object):\n",
    "    def findLength(self, A, B):\n",
    "        \"\"\"\n",
    "        :type A: List[int]\n",
    "        :type B: List[int]\n",
    "        :rtype: int\n",
    "        \"\"\"\n",
    "        m = len(A)\n",
    "        n = len(B)\n",
    "        dp = [[0]*(n+1) for _ in range(m+1)]\n",
    "        ans = 0\n",
    "        for i in range(m-1, -1, -1):\n",
    "            for j in range(n-1, -1, -1):\n",
    "                if A[i] == B[j]:\n",
    "                    dp[j][i] = dp[j+1][i+1] + 1\n",
    "                    ans = max(ans, dp[j][i])\n",
    "        return ans"
   ]
  },
  {
   "cell_type": "code",
   "execution_count": 2,
   "metadata": {},
   "outputs": [],
   "source": [
    "# Binary search:\n",
    "\n",
    "class Solution(object):\n",
    "    def findLength(self, A, B):\n",
    "        \"\"\"\n",
    "        :type A: List[int]\n",
    "        :type B: List[int]\n",
    "        :rtype: int\n",
    "        \"\"\"\n",
    "        if len(A) > len(B):\n",
    "            return self.findLength(B, A)\n",
    "        \n",
    "        def check(length):\n",
    "            lookup = set(tuple(A[i:i+length]) for i in range(len(A)-length+1))\n",
    "            return any(tuple(B[j:j+length]) in lookup for j in range(len(B)-length+1))\n",
    "        \n",
    "        left, right = 1, len(A)+1\n",
    "        while left < right:\n",
    "            mid = (left+right)//2\n",
    "            if check(mid):\n",
    "                left = mid+1\n",
    "            else:\n",
    "                right = mid\n",
    "        return left-1"
   ]
  },
  {
   "cell_type": "markdown",
   "metadata": {},
   "source": [
    "### N sum\n",
    "\n",
    "problem [link](https://leetcode.com/problems/4sum/description/):"
   ]
  },
  {
   "cell_type": "code",
   "execution_count": 38,
   "metadata": {},
   "outputs": [],
   "source": [
    "class Solution(object):\n",
    "    def fourSum(self, nums, target):\n",
    "        \"\"\"\n",
    "        :type nums: List[int]\n",
    "        :type target: int\n",
    "        :rtype: List[List[int]]\n",
    "        \"\"\"\n",
    "        def binary2sums(nums, target, pre, res):\n",
    "            n = len(nums)\n",
    "            if n < 2:\n",
    "                return\n",
    "            left, right = 0, n-1\n",
    "            while left < right:\n",
    "                if nums[left] + nums[right] == target:\n",
    "                    res.append(pre+[nums[left], nums[right]])\n",
    "                    left += 1\n",
    "                    right -= 1\n",
    "                    while left < n:\n",
    "                        if nums[left] == nums[left-1]:\n",
    "                            left += 1\n",
    "                        else:\n",
    "                            break\n",
    "                    while right > 0:\n",
    "                        if nums[right] == nums[right+1]:\n",
    "                            right -= 1\n",
    "                        else:\n",
    "                            break\n",
    "                elif nums[left] + nums[right] < target:\n",
    "                    left += 1\n",
    "                else:\n",
    "                    right -= 1\n",
    "        def findNsums(nums, target, N, pre, res):\n",
    "            n = len(nums)\n",
    "            if N < 2 or N > n:\n",
    "                return\n",
    "            if N == 2:\n",
    "                binary2sums(nums, target, pre, res)\n",
    "            else:\n",
    "                if target > nums[-1]*N:\n",
    "                    return\n",
    "                for i in range(n-N+1):\n",
    "                    if nums[i]*N > target:\n",
    "                        break\n",
    "                    else:\n",
    "                        if i == 0 or (i>0 and nums[i]!= nums[i-1]):\n",
    "                            findNsums(nums[i+1:], target-nums[i], N-1, pre+[nums[i]], res)\n",
    "        nums.sort()\n",
    "        res = []\n",
    "        findNsums(nums, target, 4, [], res)\n",
    "        return res"
   ]
  },
  {
   "cell_type": "code",
   "execution_count": 39,
   "metadata": {},
   "outputs": [],
   "source": [
    "so = Solution()"
   ]
  },
  {
   "cell_type": "code",
   "execution_count": 40,
   "metadata": {},
   "outputs": [
    {
     "data": {
      "text/plain": [
       "[[-2, -1, 1, 2], [-2, 0, 0, 2], [-1, 0, 0, 1]]"
      ]
     },
     "execution_count": 40,
     "metadata": {},
     "output_type": "execute_result"
    }
   ],
   "source": [
    "so.fourSum([1,0,-1,0,-2,2],0)"
   ]
  },
  {
   "cell_type": "code",
   "execution_count": 4,
   "metadata": {},
   "outputs": [
    {
     "data": {
      "text/plain": [
       "1e-09"
      ]
     },
     "execution_count": 4,
     "metadata": {},
     "output_type": "execute_result"
    }
   ],
   "source": [
    "1e-9"
   ]
  },
  {
   "cell_type": "code",
   "execution_count": 5,
   "metadata": {},
   "outputs": [
    {
     "data": {
      "text/plain": [
       "1e-09"
      ]
     },
     "execution_count": 5,
     "metadata": {},
     "output_type": "execute_result"
    }
   ],
   "source": [
    "10**(-9)"
   ]
  },
  {
   "cell_type": "code",
   "execution_count": 6,
   "metadata": {},
   "outputs": [
    {
     "data": {
      "text/plain": [
       "2e-09"
      ]
     },
     "execution_count": 6,
     "metadata": {},
     "output_type": "execute_result"
    }
   ],
   "source": [
    "2e-9"
   ]
  },
  {
   "cell_type": "code",
   "execution_count": 7,
   "metadata": {},
   "outputs": [
    {
     "data": {
      "text/plain": [
       "0.001953125"
      ]
     },
     "execution_count": 7,
     "metadata": {},
     "output_type": "execute_result"
    }
   ],
   "source": [
    "2**(-9)"
   ]
  },
  {
   "cell_type": "code",
   "execution_count": 8,
   "metadata": {},
   "outputs": [
    {
     "data": {
      "text/plain": [
       "2e-09"
      ]
     },
     "execution_count": 8,
     "metadata": {},
     "output_type": "execute_result"
    }
   ],
   "source": [
    "2*10**(-9)"
   ]
  },
  {
   "cell_type": "code",
   "execution_count": null,
   "metadata": {},
   "outputs": [],
   "source": []
  }
 ],
 "metadata": {
  "kernelspec": {
   "display_name": "Python 3",
   "language": "python",
   "name": "python3"
  },
  "language_info": {
   "codemirror_mode": {
    "name": "ipython",
    "version": 3
   },
   "file_extension": ".py",
   "mimetype": "text/x-python",
   "name": "python",
   "nbconvert_exporter": "python",
   "pygments_lexer": "ipython3",
   "version": "3.6.4"
  }
 },
 "nbformat": 4,
 "nbformat_minor": 2
}
