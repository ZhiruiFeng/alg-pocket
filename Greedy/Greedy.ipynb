{
 "cells": [
  {
   "cell_type": "markdown",
   "metadata": {},
   "source": [
    "# Greedy Algorithm"
   ]
  },
  {
   "cell_type": "markdown",
   "metadata": {},
   "source": [
    "The first question is how to prove a greedy algorithm is correct, which means it can help getting the optimal solution.\n",
    "\n",
    "A related blog can be found [here](https://cs.stackexchange.com/questions/59964/how-to-prove-greedy-algorithm-is-correct).\n",
    "\n",
    "Greedy algorithm is more like a simulation problem."
   ]
  },
  {
   "cell_type": "markdown",
   "metadata": {},
   "source": [
    "Example 1: [link](https://leetcode.com/contest/weekly-contest-93/problems/minimum-number-of-refueling-stops/)"
   ]
  },
  {
   "cell_type": "code",
   "execution_count": 3,
   "metadata": {},
   "outputs": [],
   "source": [
    "class Solution(object):\n",
    "    def minRefuelStops(self, target, startFuel, stations):\n",
    "        \"\"\"\n",
    "        :type target: int\n",
    "        :type startFuel: int\n",
    "        :type stations: List[List[int]]\n",
    "        :rtype: int\n",
    "        \"\"\"\n",
    "        self.memo={}\n",
    "        if startFuel >= target:\n",
    "            return 0\n",
    "        self.n = len(stations)\n",
    "        if self.n < 1 or startFuel<stations[0][0]:\n",
    "            return -1\n",
    "        self.stations = stations\n",
    "        return self.search(target-stations[0][0], startFuel-stations[0][0], 0)\n",
    "        \n",
    "    def search(self, distance, cur, index):\n",
    "        if cur >= distance:\n",
    "            return 0\n",
    "        addfuel = self.stations[index][1]\n",
    "        if index+1 == self.n:\n",
    "            if cur+addfuel < distance:\n",
    "                return -1\n",
    "            else:\n",
    "                return 1\n",
    "        else:\n",
    "            nextdis = self.stations[index+1][0]-self.stations[index][0]\n",
    "            if cur < nextdis:\n",
    "                if cur+addfuel < nextdis:\n",
    "                    return -1\n",
    "                else:\n",
    "                    left = self.search(distance-nextdis, cur+addfuel-nextdis, index+1)\n",
    "                    if left == -1:\n",
    "                        return -1\n",
    "                    return 1+left\n",
    "            else:\n",
    "                left1 = self.search(distance-nextdis, cur+addfuel-nextdis, index+1)\n",
    "                left2 = self.search(distance-nextdis, cur-nextdis, index+1)\n",
    "                if left1 == -1 and left2 == -1:\n",
    "                    return -1\n",
    "                elif left1 == -1:\n",
    "                    return left2\n",
    "                elif left2 == -1:\n",
    "                    return left1+1\n",
    "                return min(1+left1, left2)"
   ]
  },
  {
   "cell_type": "code",
   "execution_count": 4,
   "metadata": {},
   "outputs": [
    {
     "data": {
      "text/plain": [
       "7"
      ]
     },
     "execution_count": 4,
     "metadata": {},
     "output_type": "execute_result"
    }
   ],
   "source": [
    "so = Solution()\n",
    "a=1000000000\n",
    "b=145267354\n",
    "c=[[5510987,84329695],[10682248,76273791],[56227783,136858069],[91710087,18854476],[111148380,127134059],[165982642,122930004],[184216180,124802819],[217578071,7123113],[233719001,95862544],[339631786,7676497],[349762649,136128214],[403119403,21487501],[423890164,61095325],[424072629,50415446],[572994480,13561367],[609623597,69207102],[662818314,84432133],[678679727,20403175],[682325369,14288077],[702137485,6426204],[716318901,47662322],[738137702,129579140],[761962118,23765733],[820353983,70497719],[895811889,75533360]]\n",
    "so.minRefuelStops(a,b,c)"
   ]
  },
  {
   "cell_type": "markdown",
   "metadata": {},
   "source": [
    "A better way using greedy to solve it."
   ]
  },
  {
   "cell_type": "code",
   "execution_count": 27,
   "metadata": {},
   "outputs": [],
   "source": [
    "import heapq\n",
    "class Solution(object):\n",
    "    def minRefuelStops(self, target, startFuel, stations):\n",
    "        curf = startFuel\n",
    "        h = []\n",
    "        ans = 0\n",
    "        index = 0\n",
    "        n = len(stations)\n",
    "        while True:\n",
    "            while index < n and stations[index][0] <= curf:\n",
    "                heapq.heappush(h, -stations[index][1])\n",
    "                index += 1\n",
    "            if curf >= target:\n",
    "                return ans\n",
    "            if not h:\n",
    "                return -1\n",
    "            curf += -heapq.heappop(h)\n",
    "            ans += 1"
   ]
  },
  {
   "cell_type": "code",
   "execution_count": 28,
   "metadata": {},
   "outputs": [
    {
     "data": {
      "text/plain": [
       "7"
      ]
     },
     "execution_count": 28,
     "metadata": {},
     "output_type": "execute_result"
    }
   ],
   "source": [
    "so = Solution()\n",
    "a=1000000000\n",
    "b=145267354\n",
    "c=[[5510987,84329695],[10682248,76273791],[56227783,136858069],[91710087,18854476],[111148380,127134059],[165982642,122930004],[184216180,124802819],[217578071,7123113],[233719001,95862544],[339631786,7676497],[349762649,136128214],[403119403,21487501],[423890164,61095325],[424072629,50415446],[572994480,13561367],[609623597,69207102],[662818314,84432133],[678679727,20403175],[682325369,14288077],[702137485,6426204],[716318901,47662322],[738137702,129579140],[761962118,23765733],[820353983,70497719],[895811889,75533360]]\n",
    "so.minRefuelStops(a,b,c)"
   ]
  },
  {
   "cell_type": "markdown",
   "metadata": {},
   "source": [
    "Example 2: [link](https://leetcode.com/contest/weekly-contest-93/problems/advantage-shuffle/)"
   ]
  },
  {
   "cell_type": "code",
   "execution_count": 43,
   "metadata": {},
   "outputs": [],
   "source": [
    "class Solution(object):\n",
    "    def advantageCount(self, A, B):\n",
    "        \"\"\"\n",
    "        :type A: List[int]\n",
    "        :type B: List[int]\n",
    "        :rtype: List[int]\n",
    "        \"\"\"\n",
    "        sortB = [(v, i) for i, v in enumerate(B)]\n",
    "        sortB.sort()\n",
    "        A.sort()\n",
    "        indexA = 0\n",
    "        indexB = 0\n",
    "        left = []\n",
    "        ans = {}\n",
    "        nA = len(A)\n",
    "        nB = len(B)\n",
    "        while indexA < nA:\n",
    "            if A[indexA] > sortB[indexB][0]:\n",
    "                ans[sortB[indexB][1]] = A[indexA]\n",
    "                indexB += 1\n",
    "            else:\n",
    "                left.append(A[indexA])\n",
    "            indexA += 1\n",
    "        out = []\n",
    "        for i in range(nA):\n",
    "            if i in ans:\n",
    "                out.append(ans[i])\n",
    "            else:\n",
    "                out.append(left.pop())\n",
    "        return out"
   ]
  },
  {
   "cell_type": "code",
   "execution_count": null,
   "metadata": {},
   "outputs": [],
   "source": []
  }
 ],
 "metadata": {
  "kernelspec": {
   "display_name": "Python 3",
   "language": "python",
   "name": "python3"
  },
  "language_info": {
   "codemirror_mode": {
    "name": "ipython",
    "version": 3
   },
   "file_extension": ".py",
   "mimetype": "text/x-python",
   "name": "python",
   "nbconvert_exporter": "python",
   "pygments_lexer": "ipython3",
   "version": "3.6.4"
  }
 },
 "nbformat": 4,
 "nbformat_minor": 2
}
