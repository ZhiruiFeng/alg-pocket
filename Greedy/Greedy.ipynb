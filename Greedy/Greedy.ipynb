{
 "cells": [
  {
   "cell_type": "markdown",
   "metadata": {},
   "source": [
    "# Greedy Algorithm"
   ]
  },
  {
   "cell_type": "markdown",
   "metadata": {},
   "source": [
    "The first question is how to prove a greedy algorithm is correct, which means it can help getting the optimal solution.\n",
    "\n",
    "A related blog can be found [here](https://cs.stackexchange.com/questions/59964/how-to-prove-greedy-algorithm-is-correct).\n",
    "\n",
    "Greedy algorithm is more like a simulation problem."
   ]
  },
  {
   "cell_type": "markdown",
   "metadata": {},
   "source": [
    "Example 1: [link](https://leetcode.com/contest/weekly-contest-93/problems/minimum-number-of-refueling-stops/)"
   ]
  },
  {
   "cell_type": "code",
   "execution_count": 3,
   "metadata": {
    "collapsed": true
   },
   "outputs": [],
   "source": [
    "class Solution(object):\n",
    "    def minRefuelStops(self, target, startFuel, stations):\n",
    "        \"\"\"\n",
    "        :type target: int\n",
    "        :type startFuel: int\n",
    "        :type stations: List[List[int]]\n",
    "        :rtype: int\n",
    "        \"\"\"\n",
    "        self.memo={}\n",
    "        if startFuel >= target:\n",
    "            return 0\n",
    "        self.n = len(stations)\n",
    "        if self.n < 1 or startFuel<stations[0][0]:\n",
    "            return -1\n",
    "        self.stations = stations\n",
    "        return self.search(target-stations[0][0], startFuel-stations[0][0], 0)\n",
    "        \n",
    "    def search(self, distance, cur, index):\n",
    "        if cur >= distance:\n",
    "            return 0\n",
    "        addfuel = self.stations[index][1]\n",
    "        if index+1 == self.n:\n",
    "            if cur+addfuel < distance:\n",
    "                return -1\n",
    "            else:\n",
    "                return 1\n",
    "        else:\n",
    "            nextdis = self.stations[index+1][0]-self.stations[index][0]\n",
    "            if cur < nextdis:\n",
    "                if cur+addfuel < nextdis:\n",
    "                    return -1\n",
    "                else:\n",
    "                    left = self.search(distance-nextdis, cur+addfuel-nextdis, index+1)\n",
    "                    if left == -1:\n",
    "                        return -1\n",
    "                    return 1+left\n",
    "            else:\n",
    "                left1 = self.search(distance-nextdis, cur+addfuel-nextdis, index+1)\n",
    "                left2 = self.search(distance-nextdis, cur-nextdis, index+1)\n",
    "                if left1 == -1 and left2 == -1:\n",
    "                    return -1\n",
    "                elif left1 == -1:\n",
    "                    return left2\n",
    "                elif left2 == -1:\n",
    "                    return left1+1\n",
    "                return min(1+left1, left2)"
   ]
  },
  {
   "cell_type": "code",
   "execution_count": 4,
   "metadata": {},
   "outputs": [
    {
     "data": {
      "text/plain": [
       "7"
      ]
     },
     "execution_count": 4,
     "metadata": {},
     "output_type": "execute_result"
    }
   ],
   "source": [
    "so = Solution()\n",
    "a=1000000000\n",
    "b=145267354\n",
    "c=[[5510987,84329695],[10682248,76273791],[56227783,136858069],[91710087,18854476],[111148380,127134059],[165982642,122930004],[184216180,124802819],[217578071,7123113],[233719001,95862544],[339631786,7676497],[349762649,136128214],[403119403,21487501],[423890164,61095325],[424072629,50415446],[572994480,13561367],[609623597,69207102],[662818314,84432133],[678679727,20403175],[682325369,14288077],[702137485,6426204],[716318901,47662322],[738137702,129579140],[761962118,23765733],[820353983,70497719],[895811889,75533360]]\n",
    "so.minRefuelStops(a,b,c)"
   ]
  },
  {
   "cell_type": "markdown",
   "metadata": {},
   "source": [
    "A better way using greedy to solve it."
   ]
  },
  {
   "cell_type": "code",
   "execution_count": 27,
   "metadata": {
    "collapsed": true
   },
   "outputs": [],
   "source": [
    "import heapq\n",
    "class Solution(object):\n",
    "    def minRefuelStops(self, target, startFuel, stations):\n",
    "        curf = startFuel\n",
    "        h = []\n",
    "        ans = 0\n",
    "        index = 0\n",
    "        n = len(stations)\n",
    "        while True:\n",
    "            while index < n and stations[index][0] <= curf:\n",
    "                heapq.heappush(h, -stations[index][1])\n",
    "                index += 1\n",
    "            if curf >= target:\n",
    "                return ans\n",
    "            if not h:\n",
    "                return -1\n",
    "            curf += -heapq.heappop(h)\n",
    "            ans += 1"
   ]
  },
  {
   "cell_type": "code",
   "execution_count": 28,
   "metadata": {},
   "outputs": [
    {
     "data": {
      "text/plain": [
       "7"
      ]
     },
     "execution_count": 28,
     "metadata": {},
     "output_type": "execute_result"
    }
   ],
   "source": [
    "so = Solution()\n",
    "a=1000000000\n",
    "b=145267354\n",
    "c=[[5510987,84329695],[10682248,76273791],[56227783,136858069],[91710087,18854476],[111148380,127134059],[165982642,122930004],[184216180,124802819],[217578071,7123113],[233719001,95862544],[339631786,7676497],[349762649,136128214],[403119403,21487501],[423890164,61095325],[424072629,50415446],[572994480,13561367],[609623597,69207102],[662818314,84432133],[678679727,20403175],[682325369,14288077],[702137485,6426204],[716318901,47662322],[738137702,129579140],[761962118,23765733],[820353983,70497719],[895811889,75533360]]\n",
    "so.minRefuelStops(a,b,c)"
   ]
  },
  {
   "cell_type": "markdown",
   "metadata": {},
   "source": [
    "Example 2: [link](https://leetcode.com/contest/weekly-contest-93/problems/advantage-shuffle/)"
   ]
  },
  {
   "cell_type": "code",
   "execution_count": 43,
   "metadata": {
    "collapsed": true
   },
   "outputs": [],
   "source": [
    "class Solution(object):\n",
    "    def advantageCount(self, A, B):\n",
    "        \"\"\"\n",
    "        :type A: List[int]\n",
    "        :type B: List[int]\n",
    "        :rtype: List[int]\n",
    "        \"\"\"\n",
    "        sortB = [(v, i) for i, v in enumerate(B)]\n",
    "        sortB.sort()\n",
    "        A.sort()\n",
    "        indexA = 0\n",
    "        indexB = 0\n",
    "        left = []\n",
    "        ans = {}\n",
    "        nA = len(A)\n",
    "        nB = len(B)\n",
    "        while indexA < nA:\n",
    "            if A[indexA] > sortB[indexB][0]:\n",
    "                ans[sortB[indexB][1]] = A[indexA]\n",
    "                indexB += 1\n",
    "            else:\n",
    "                left.append(A[indexA])\n",
    "            indexA += 1\n",
    "        out = []\n",
    "        for i in range(nA):\n",
    "            if i in ans:\n",
    "                out.append(ans[i])\n",
    "            else:\n",
    "                out.append(left.pop())\n",
    "        return out"
   ]
  },
  {
   "cell_type": "markdown",
   "metadata": {},
   "source": [
    "Problem [link](https://leetcode.com/articles/split-array-into-consecutive-subsequences/)"
   ]
  },
  {
   "cell_type": "code",
   "execution_count": 90,
   "metadata": {
    "collapsed": true
   },
   "outputs": [],
   "source": [
    "class Solution(object):\n",
    "    def isPossible(self, nums):\n",
    "        \"\"\"\n",
    "        :type nums: List[int]\n",
    "        :rtype: bool\n",
    "        \"\"\"\n",
    "        store = []\n",
    "        for num in nums:\n",
    "            added = False\n",
    "            for q in store:\n",
    "                if q[-1] == num-1:\n",
    "                    q.append(num)\n",
    "                    added = True\n",
    "                    break\n",
    "                elif q[-1] < num-1:\n",
    "                    if len(q) < 3:\n",
    "                        return False\n",
    "                    else:\n",
    "                        break\n",
    "            if not added:\n",
    "                store.insert(0, [num])\n",
    "        print(store)\n",
    "        return all(len(l) >= 3 for l in store)"
   ]
  },
  {
   "cell_type": "code",
   "execution_count": 91,
   "metadata": {
    "collapsed": true
   },
   "outputs": [],
   "source": [
    "so = Solution()"
   ]
  },
  {
   "cell_type": "code",
   "execution_count": 92,
   "metadata": {},
   "outputs": [
    {
     "name": "stdout",
     "output_type": "stream",
     "text": [
      "[[4, 5, 6, 7, 8, 9, 10, 11], [3, 4]]\n"
     ]
    },
    {
     "data": {
      "text/plain": [
       "False"
      ]
     },
     "execution_count": 92,
     "metadata": {},
     "output_type": "execute_result"
    }
   ],
   "source": [
    "so.isPossible([3,4,4,5,6,7,8,9,10,11])"
   ]
  },
  {
   "cell_type": "markdown",
   "metadata": {},
   "source": [
    "Problem [link](https://leetcode.com/problems/jump-game-ii/description/)"
   ]
  },
  {
   "cell_type": "markdown",
   "metadata": {},
   "source": [
    "A trivial solution using dp, which will waste some time."
   ]
  },
  {
   "cell_type": "code",
   "execution_count": null,
   "metadata": {
    "collapsed": true
   },
   "outputs": [],
   "source": [
    "class Solution(object):\n",
    "    def jump(self, nums):\n",
    "        \"\"\"\n",
    "        :type nums: List[int]\n",
    "        :rtype: int\n",
    "        \"\"\"\n",
    "        if not nums:\n",
    "            return 0\n",
    "        n = len(nums)\n",
    "        if n == 1:\n",
    "            return 0\n",
    "        ans = [n]*n\n",
    "        ans[0]=0\n",
    "        for i in range(n-1):\n",
    "            cur = nums[i]\n",
    "            for j in range(cur):\n",
    "                ans[i+1+j] = min(ans[i+1+j], ans[i]+1)\n",
    "                if i+1+j == n-1:\n",
    "                    return ans[i+1+j]\n",
    "        return ans[n-1]"
   ]
  },
  {
   "cell_type": "markdown",
   "metadata": {},
   "source": [
    "Another solution uses greedy, which based on how far each step can jump."
   ]
  },
  {
   "cell_type": "code",
   "execution_count": null,
   "metadata": {
    "collapsed": true
   },
   "outputs": [],
   "source": [
    "class Solution(object):\n",
    "    def jump(self, nums):\n",
    "        \"\"\"\n",
    "        :type nums: List[int]\n",
    "        :rtype: int\n",
    "        \"\"\"\n",
    "        n = len(nums)\n",
    "        if n <= 1: return 0\n",
    "\n",
    "        left = 0\n",
    "        right = left + nums[left]\n",
    "        if right >= n - 1:\n",
    "            return 1\n",
    "        left += 1\n",
    "        step = 1\n",
    "        while right < n - 1:\n",
    "            cur_max = right\n",
    "            while left <= right:\n",
    "                if left + nums[left] > cur_max:\n",
    "                    cur_max = left + nums[left]\n",
    "                left += 1\n",
    "            right = cur_max\n",
    "            step += 1\n",
    "        return step"
   ]
  },
  {
   "cell_type": "markdown",
   "metadata": {},
   "source": [
    "Wiggle Subsequence: [link]()"
   ]
  },
  {
   "cell_type": "code",
   "execution_count": 12,
   "metadata": {
    "collapsed": true
   },
   "outputs": [],
   "source": [
    "# Using dp\n",
    "class Solution(object):\n",
    "    def wiggleMaxLength(self, nums):\n",
    "        \"\"\"\n",
    "        :type nums: List[int]\n",
    "        :rtype: int\n",
    "        \"\"\"\n",
    "        n = len(nums)\n",
    "        if n < 2:\n",
    "            return n\n",
    "        up = 1\n",
    "        down = 1\n",
    "        for i in range(1, n):\n",
    "            if nums[i] > nums[i-1]:\n",
    "                up = down + 1\n",
    "            elif nums[i] < nums[i-1]:\n",
    "                down = up + 1\n",
    "        return max(up, down)\n",
    "    \n",
    "    # Using greedy\n",
    "    def wiggleMaxLengthGreedy(self, nums):\n",
    "        \"\"\"\n",
    "        :type nums: List[int]\n",
    "        :rtype: int\n",
    "        \"\"\"\n",
    "        n = len(nums)\n",
    "        if n < 2:\n",
    "            return n\n",
    "        pre = nums[1]-nums[0]\n",
    "        if pre == 0:\n",
    "            count = 1\n",
    "        else:\n",
    "            count = 2\n",
    "        for i in range(2, n):\n",
    "            diff = nums[i]-nums[i-1]\n",
    "            if (diff>0 and pre <0) or (diff<0 and pre>0):\n",
    "                count += 1\n",
    "                pre = diff\n",
    "        return count"
   ]
  },
  {
   "cell_type": "markdown",
   "metadata": {},
   "source": [
    "Split Array into Fibonacci Sequence: [link](https://leetcode.com/problems/split-array-into-fibonacci-sequence/description/)"
   ]
  },
  {
   "cell_type": "code",
   "execution_count": 58,
   "metadata": {
    "collapsed": true
   },
   "outputs": [],
   "source": [
    "class Solution(object):\n",
    "    def splitIntoFibonacci(self, S):\n",
    "        \"\"\"\n",
    "        :type S: str\n",
    "        :rtype: List[int]\n",
    "        \"\"\"\n",
    "        n = len(S)\n",
    "        if n<3:\n",
    "            return []\n",
    "        medium = n//2\n",
    "        for one in range(medium):\n",
    "            if one > 0 and S[0]=='0':\n",
    "                break\n",
    "            two = 1\n",
    "            numone = int(S[:one+1])\n",
    "            while True:\n",
    "                if two > 1 and S[one+1]=='0':\n",
    "                    break\n",
    "                if n-two-one-1<max(one+1, two):\n",
    "                    break\n",
    "                numtwo = int(S[one+1:one+two+1])\n",
    "                ans = [numone, numtwo]\n",
    "                cur = one+two+1\n",
    "                while True:\n",
    "                    t = ans[-1]+ans[-2]\n",
    "                    if t > 2**31-1:\n",
    "                        break\n",
    "                    strt = str(t)\n",
    "                    if len(strt)+cur>n:\n",
    "                        break\n",
    "                    elif len(strt) + cur == n:\n",
    "                        if strt == S[cur:]:\n",
    "                            ans.append(t)\n",
    "                            return ans\n",
    "                        else:\n",
    "                            break\n",
    "                    else:\n",
    "                        if strt == S[cur:cur+len(strt)]:\n",
    "                            ans.append(t)\n",
    "                            cur+=len(strt)\n",
    "                        else:\n",
    "                            break\n",
    "                two+=1\n",
    "        return []"
   ]
  },
  {
   "cell_type": "code",
   "execution_count": 59,
   "metadata": {
    "collapsed": true
   },
   "outputs": [],
   "source": [
    "so = Solution()"
   ]
  },
  {
   "cell_type": "code",
   "execution_count": 60,
   "metadata": {},
   "outputs": [
    {
     "data": {
      "text/plain": [
       "[]"
      ]
     },
     "execution_count": 60,
     "metadata": {},
     "output_type": "execute_result"
    }
   ],
   "source": [
    "so.splitIntoFibonacci(\"539834657215398346785398346991079669377161950407626991734534318677529701785098211336528511\")"
   ]
  },
  {
   "cell_type": "markdown",
   "metadata": {},
   "source": [
    "IPO problem [link](https://leetcode.com/problems/ipo/description/)"
   ]
  },
  {
   "cell_type": "code",
   "execution_count": 7,
   "metadata": {
    "collapsed": true
   },
   "outputs": [],
   "source": [
    "import heapq\n",
    "class Solution(object):\n",
    "    def findMaximizedCapital(self, k, W, Profits, Capital):\n",
    "        \"\"\"\n",
    "        :type k: int\n",
    "        :type W: int\n",
    "        :type Profits: List[int]\n",
    "        :type Capital: List[int]\n",
    "        :rtype: int\n",
    "        \"\"\"\n",
    "        if not k or not Profits or not Capital:\n",
    "            return 0\n",
    "        n = len(Profits)\n",
    "        pros = [(Capital[i], Profits[i]) for i in range(n)]\n",
    "        pros.sort()\n",
    "        cur = W\n",
    "        h = []\n",
    "        index = 0\n",
    "        while k > 0:\n",
    "            while index < n:\n",
    "                if pros[index][0] <= cur:\n",
    "                    heapq.heappush(h, -pros[index][1])\n",
    "                    index += 1\n",
    "                else:\n",
    "                    break\n",
    "            if h:\n",
    "                t = -heapq.heappop(h)\n",
    "                cur+=t\n",
    "                k -= 1\n",
    "            else:\n",
    "                return cur\n",
    "        return cur"
   ]
  },
  {
   "cell_type": "code",
   "execution_count": 8,
   "metadata": {
    "collapsed": true
   },
   "outputs": [],
   "source": [
    "so = Solution()"
   ]
  },
  {
   "cell_type": "code",
   "execution_count": 9,
   "metadata": {},
   "outputs": [
    {
     "data": {
      "text/plain": [
       "1"
      ]
     },
     "execution_count": 9,
     "metadata": {},
     "output_type": "execute_result"
    }
   ],
   "source": [
    "k =2\n",
    "w = 0\n",
    "P=[1]\n",
    "C=[0]\n",
    "so.findMaximizedCapital(k,w,P,C)"
   ]
  },
  {
   "cell_type": "markdown",
   "metadata": {},
   "source": [
    "Patching Array [link](https://leetcode.com/problems/patching-array/description/)"
   ]
  },
  {
   "cell_type": "code",
   "execution_count": 10,
   "metadata": {
    "collapsed": true
   },
   "outputs": [],
   "source": [
    "class Solution(object):\n",
    "    def minPatches(self, nums, n):\n",
    "        \"\"\"\n",
    "        :type nums: List[int]\n",
    "        :type n: int\n",
    "        :rtype: int\n",
    "        \"\"\"\n",
    "        if n == 0:\n",
    "            return 0\n",
    "        nums.sort()\n",
    "        s = set()\n",
    "        for num in nums:\n",
    "            l = list(s)\n",
    "            for i in l:\n",
    "                s.add(i+num)\n",
    "            s.add(num)\n",
    "        t = 0\n",
    "        while len(s) < n:\n",
    "            t+=1\n",
    "            m = 0\n",
    "            c = 0\n",
    "            for i in range(1, n+1):\n",
    "                if i in s:\n",
    "                    c = 0\n",
    "                else:\n",
    "                    c += 1\n",
    "                    m = max(m, c)\n",
    "            for i in list(s):\n",
    "                s.add(i+m)\n",
    "            s.add(m)\n",
    "        return t"
   ]
  },
  {
   "cell_type": "code",
   "execution_count": 11,
   "metadata": {
    "collapsed": true
   },
   "outputs": [],
   "source": [
    "so = Solution()"
   ]
  },
  {
   "cell_type": "code",
   "execution_count": 15,
   "metadata": {},
   "outputs": [
    {
     "ename": "KeyboardInterrupt",
     "evalue": "",
     "output_type": "error",
     "traceback": [
      "\u001b[0;31m---------------------------------------------------------------------------\u001b[0m",
      "\u001b[0;31mKeyboardInterrupt\u001b[0m                         Traceback (most recent call last)",
      "\u001b[0;32m<ipython-input-15-51e53a548149>\u001b[0m in \u001b[0;36m<module>\u001b[0;34m()\u001b[0m\n\u001b[1;32m      1\u001b[0m \u001b[0mnums\u001b[0m \u001b[0;34m=\u001b[0m \u001b[0;34m[\u001b[0m\u001b[0;36m1\u001b[0m\u001b[0;34m,\u001b[0m\u001b[0;36m2\u001b[0m\u001b[0;34m,\u001b[0m\u001b[0;36m31\u001b[0m\u001b[0;34m,\u001b[0m\u001b[0;36m33\u001b[0m\u001b[0;34m]\u001b[0m\u001b[0;34m\u001b[0m\u001b[0m\n\u001b[1;32m      2\u001b[0m \u001b[0mn\u001b[0m \u001b[0;34m=\u001b[0m \u001b[0;36m2147483647\u001b[0m\u001b[0;34m\u001b[0m\u001b[0m\n\u001b[0;32m----> 3\u001b[0;31m \u001b[0mso\u001b[0m\u001b[0;34m.\u001b[0m\u001b[0mminPatches\u001b[0m\u001b[0;34m(\u001b[0m\u001b[0mnums\u001b[0m\u001b[0;34m,\u001b[0m \u001b[0mn\u001b[0m\u001b[0;34m)\u001b[0m\u001b[0;34m\u001b[0m\u001b[0m\n\u001b[0m",
      "\u001b[0;32m<ipython-input-10-007d3bed7461>\u001b[0m in \u001b[0;36mminPatches\u001b[0;34m(self, nums, n)\u001b[0m\n\u001b[1;32m     25\u001b[0m                 \u001b[0;32melse\u001b[0m\u001b[0;34m:\u001b[0m\u001b[0;34m\u001b[0m\u001b[0m\n\u001b[1;32m     26\u001b[0m                     \u001b[0mc\u001b[0m \u001b[0;34m+=\u001b[0m \u001b[0;36m1\u001b[0m\u001b[0;34m\u001b[0m\u001b[0m\n\u001b[0;32m---> 27\u001b[0;31m                     \u001b[0mm\u001b[0m \u001b[0;34m=\u001b[0m \u001b[0mmax\u001b[0m\u001b[0;34m(\u001b[0m\u001b[0mm\u001b[0m\u001b[0;34m,\u001b[0m \u001b[0mc\u001b[0m\u001b[0;34m)\u001b[0m\u001b[0;34m\u001b[0m\u001b[0m\n\u001b[0m\u001b[1;32m     28\u001b[0m             \u001b[0;32mfor\u001b[0m \u001b[0mi\u001b[0m \u001b[0;32min\u001b[0m \u001b[0mlist\u001b[0m\u001b[0;34m(\u001b[0m\u001b[0ms\u001b[0m\u001b[0;34m)\u001b[0m\u001b[0;34m:\u001b[0m\u001b[0;34m\u001b[0m\u001b[0m\n\u001b[1;32m     29\u001b[0m                 \u001b[0ms\u001b[0m\u001b[0;34m.\u001b[0m\u001b[0madd\u001b[0m\u001b[0;34m(\u001b[0m\u001b[0mi\u001b[0m\u001b[0;34m+\u001b[0m\u001b[0mm\u001b[0m\u001b[0;34m)\u001b[0m\u001b[0;34m\u001b[0m\u001b[0m\n",
      "\u001b[0;31mKeyboardInterrupt\u001b[0m: "
     ]
    }
   ],
   "source": [
    "nums = [1,2,31,33]\n",
    "n = 2147483647\n",
    "so.minPatches(nums, n)"
   ]
  },
  {
   "cell_type": "code",
   "execution_count": null,
   "metadata": {
    "collapsed": true
   },
   "outputs": [],
   "source": []
  }
 ],
 "metadata": {
  "kernelspec": {
   "display_name": "Python 3",
   "language": "python",
   "name": "python3"
  },
  "language_info": {
   "codemirror_mode": {
    "name": "ipython",
    "version": 3
   },
   "file_extension": ".py",
   "mimetype": "text/x-python",
   "name": "python",
   "nbconvert_exporter": "python",
   "pygments_lexer": "ipython3",
   "version": "3.6.4"
  }
 },
 "nbformat": 4,
 "nbformat_minor": 2
}
