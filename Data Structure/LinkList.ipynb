{
 "cells": [
  {
   "cell_type": "markdown",
   "metadata": {},
   "source": [
    "# Link List"
   ]
  },
  {
   "cell_type": "markdown",
   "metadata": {},
   "source": [
    "Linklist is a data structure that only allow one by one access, while with strong flexibility to insert and delete.\n",
    "\n",
    "Thus some main funtions here are:\n",
    "\n",
    "- Location:\n",
    "    - Find the meidan position (Using fast and slow two points)\n",
    "    - Find the position through index\n",
    "- Change:\n",
    "    - Reverse the link list\n",
    "    - Insert and delete\n",
    "    - Merge\n",
    "    - Sort\n",
    "- Structure:\n",
    "    - Find circle (Using fast and slow two points)\n",
    "    - Find the intersection of circle. (Floyd's Tortoise and Hare)\n",
    "- Synthetic\n",
    "    - Related to tree and graph structure"
   ]
  },
  {
   "cell_type": "markdown",
   "metadata": {},
   "source": [
    "## Good problem"
   ]
  },
  {
   "cell_type": "markdown",
   "metadata": {},
   "source": [
    "Linked List Cycle [here](https://leetcode.com/problems/linked-list-cycle-ii/solution/)"
   ]
  },
  {
   "cell_type": "code",
   "execution_count": 1,
   "metadata": {
    "collapsed": true
   },
   "outputs": [],
   "source": [
    "class Solution(object):\n",
    "    def getIntersect(self, head):\n",
    "        tortoise = head\n",
    "        hare = head\n",
    "\n",
    "        # A fast pointer will either loop around a cycle and meet the slow\n",
    "        # pointer or reach the `null` at the end of a non-cyclic list.\n",
    "        while hare is not None and hare.next is not None:\n",
    "            tortoise = tortoise.next\n",
    "            hare = hare.next.next\n",
    "            if tortoise == hare:\n",
    "                return tortoise\n",
    "\n",
    "        return None\n",
    "\n",
    "    def detectCycle(self, head):\n",
    "        if head is None:\n",
    "            return None\n",
    "\n",
    "        # If there is a cycle, the fast/slow pointers will intersect at some\n",
    "        # node. Otherwise, there is no cycle, so we cannot find an entrance to\n",
    "        # a cycle.\n",
    "        intersect = self.getIntersect(head)\n",
    "        if intersect is None:\n",
    "            return None\n",
    "\n",
    "        # To find the entrance to the cycle, we have two pointers traverse at\n",
    "        # the same speed -- one from the front of the list, and the other from\n",
    "        # the point of intersection.\n",
    "        ptr1 = head\n",
    "        ptr2 = intersect\n",
    "        while ptr1 != ptr2:\n",
    "            ptr1 = ptr1.next\n",
    "            ptr2 = ptr2.next\n",
    "\n",
    "        return ptr1"
   ]
  },
  {
   "cell_type": "code",
   "execution_count": null,
   "metadata": {
    "collapsed": true
   },
   "outputs": [],
   "source": []
  }
 ],
 "metadata": {
  "kernelspec": {
   "display_name": "Python 3",
   "language": "python",
   "name": "python3"
  },
  "language_info": {
   "codemirror_mode": {
    "name": "ipython",
    "version": 3
   },
   "file_extension": ".py",
   "mimetype": "text/x-python",
   "name": "python",
   "nbconvert_exporter": "python",
   "pygments_lexer": "ipython3",
   "version": "3.6.4"
  }
 },
 "nbformat": 4,
 "nbformat_minor": 2
}
