{
 "cells": [
  {
   "cell_type": "markdown",
   "metadata": {},
   "source": [
    "# Array"
   ]
  },
  {
   "cell_type": "code",
   "execution_count": 61,
   "metadata": {
    "collapsed": true
   },
   "outputs": [],
   "source": [
    "def alert(A, winsize, allowins):\n",
    "    n = len(A)\n",
    "    # A data structure to store whether the item is possible to burst \n",
    "    explosives = []\n",
    "    winsum = sum(A[0:winsize])\n",
    "    length = min(n,winsize)\n",
    "    for i in range(length):\n",
    "        if A[i]*length > winsum*allowins:\n",
    "            explosives.append(True)\n",
    "        else:\n",
    "            explosives.append(False)\n",
    "    right = length\n",
    "    while right < n:\n",
    "        # Judge wthether the previous one will burst\n",
    "        print(explosives)\n",
    "        if explosives[right-length] == True:\n",
    "            print(\"----3\")\n",
    "            return True\n",
    "        pre = winsum\n",
    "        winsum = winsum+A[right]-A[right-length]\n",
    "        explosives.append(True)\n",
    "        for i in range(1, length):\n",
    "            if A[right-i]*length <= winsum*allowins:\n",
    "                explosives[right-i] = False \n",
    "        if winsum > allowins*pre:\n",
    "            print(\"----1\")\n",
    "            return True\n",
    "        right += 1\n",
    "    # When the windows size is small than winsize\n",
    "    left = n - length\n",
    "    length -= 1\n",
    "    while left < n-1:\n",
    "        if explosives[left] == True:\n",
    "            print(\"----2\")\n",
    "            print(left)\n",
    "            return True\n",
    "        winsum -= A[left]\n",
    "        for i in range(length):\n",
    "            if A[left+1+i]*length <= winsum*allowins:\n",
    "                explosives[left+1+i] = False\n",
    "        length -= 1\n",
    "        left += 1\n",
    "    return False\n",
    "        "
   ]
  },
  {
   "cell_type": "code",
   "execution_count": 8,
   "metadata": {
    "collapsed": true
   },
   "outputs": [],
   "source": [
    "# Complete the alert function below.\n",
    "def alert(inputs, windowSize, allowedIncrease):\n",
    "    n = len(inputs)             # The number for responses\n",
    "    # A data structure to store the possible response that will triger first alert\n",
    "    explosives = set()          # Choosing this structure, we can do access, insert, delete operation in O(1) time complexity\n",
    "    length = min(n, windowSize)    # In case the length of inputs is smaller than windowSize\n",
    "    print(inputs[:length])\n",
    "    windowSum = sum(inputs[:length])\n",
    "    print(windowSum)\n",
    "    # Find currently which response is so high, and may call first alert\n",
    "    for i in range(length):\n",
    "        if inputs[i] * length > windowSum * allowedIncrease:\n",
    "            explosives.add(i)\n",
    "    # Start to move the windows forward\n",
    "    right = length\n",
    "    # length == windowSize, the window is full\n",
    "    while right < n:\n",
    "        # Check whether the first kind of allert will be triggered\n",
    "        if right-length in explosives:\n",
    "            return True\n",
    "        pre = windowSum\n",
    "        windowSum = pre + inputs[right]-inputs[right-length]\n",
    "        # Delete all possible explosives that won't trigger first alert, and check the new response\n",
    "        for index in list(explosives):\n",
    "            if inputs[index] * length <= windowSum * allowedIncrease:\n",
    "                explosives.remove(index)\n",
    "        if inputs[right] * length > windowSum * allowedIncrease:\n",
    "            explosives.add(right)\n",
    "        # Check whether the second kind of alerter will be triggered\n",
    "        print(windowSum)\n",
    "        print(pre)\n",
    "        print('---')\n",
    "        if windowSum > allowedIncrease * pre:\n",
    "            return True\n",
    "        right += 1\n",
    "    # length < windowSize, the window is not full\n",
    "    left = n - length\n",
    "    length -= 1\n",
    "    while left < n-1:\n",
    "        # Check whether the first kind of allert will be triggered\n",
    "        if left in explosives:\n",
    "            return True\n",
    "        windowSum -= inputs[left]\n",
    "        # Delete all possible explosives that won't trigger first alert\n",
    "        for index in list(explosives):\n",
    "            if inputs[index] * length <= windowSum * allowedIncrease:\n",
    "                explosives.remove(index)\n",
    "        # No need to detect 2nd alert, because all response is non-negative then the new windowSum won't be larger\n",
    "        length -= 1\n",
    "        left += 1\n",
    "    # The worst time complexity is O(kn), n is the size of inputs, k is the size of windows\n",
    "    return False\n",
    "    \n",
    "\n"
   ]
  },
  {
   "cell_type": "code",
   "execution_count": 29,
   "metadata": {
    "collapsed": true
   },
   "outputs": [],
   "source": [
    "A = [100, 100, 100, 100, 100, 100, 100, 100]\n",
    "A = [1, 1, 1, 1, 200, 200, 1, 1, 1]\n",
    "A = [1, 2, 100, 2, 2]\n",
    "A = [1, 2, 4, 2, 2]\n",
    "#A = [1, 2, 100, 2, 2]\n",
    "#A = [8,1,8,1]\n",
    "winsize = 3\n",
    "allowins = 2"
   ]
  },
  {
   "cell_type": "code",
   "execution_count": 30,
   "metadata": {},
   "outputs": [
    {
     "name": "stdout",
     "output_type": "stream",
     "text": [
      "[1, 2, 4]\n",
      "7\n",
      "8\n",
      "7\n",
      "---\n",
      "8\n",
      "8\n",
      "---\n"
     ]
    },
    {
     "data": {
      "text/plain": [
       "False"
      ]
     },
     "execution_count": 30,
     "metadata": {},
     "output_type": "execute_result"
    }
   ],
   "source": [
    "alert(A, winsize, allowins)"
   ]
  },
  {
   "cell_type": "code",
   "execution_count": null,
   "metadata": {
    "collapsed": true
   },
   "outputs": [],
   "source": []
  },
  {
   "cell_type": "code",
   "execution_count": null,
   "metadata": {
    "collapsed": true
   },
   "outputs": [],
   "source": []
  }
 ],
 "metadata": {
  "kernelspec": {
   "display_name": "Python 3",
   "language": "python",
   "name": "python3"
  },
  "language_info": {
   "codemirror_mode": {
    "name": "ipython",
    "version": 3
   },
   "file_extension": ".py",
   "mimetype": "text/x-python",
   "name": "python",
   "nbconvert_exporter": "python",
   "pygments_lexer": "ipython3",
   "version": "3.6.4"
  }
 },
 "nbformat": 4,
 "nbformat_minor": 2
}
