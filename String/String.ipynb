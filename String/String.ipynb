{
 "cells": [
  {
   "cell_type": "markdown",
   "metadata": {},
   "source": [
    "# String"
   ]
  },
  {
   "cell_type": "code",
   "execution_count": null,
   "metadata": {},
   "outputs": [],
   "source": [
    "class Solution(object):\n",
    "    def wordBreak(self, s, wordDict):\n",
    "        \"\"\"\n",
    "        :type s: str\n",
    "        :type wordDict: List[str]\n",
    "        :rtype: List[str]\n",
    "        \"\"\"\n",
    "        if not wordDict:\n",
    "            return []\n",
    "        maxword = max(map(len, wordDict))\n",
    "        n = len(s)\n",
    "        dp = [0]*(n+1)\n",
    "        dp[0] = 1\n",
    "        store = [[] for _ in range(n+1)]\n",
    "        for i in range(1, n+1):\n",
    "            print(dp)\n",
    "            for j in range(max(0,i-maxword), i):\n",
    "                if not dp[j]:\n",
    "                    continue\n",
    "                if s[j:i] in wordDict:\n",
    "                    if j == 0:\n",
    "                        dp[i] += 1\n",
    "                        store[i].append(s[:i])\n",
    "                    else:\n",
    "                        for m in store[j]:\n",
    "                            store[i].append(m[:]+\" \"+s[j:i])\n",
    "                            dp[i] += 1\n",
    "        return store[-1]"
   ]
  },
  {
   "cell_type": "markdown",
   "metadata": {},
   "source": [
    "**How to speed up:**\n",
    "\n",
    "In order to speed up recursion, we can use dynamic programming which is also the same like using memorials.\n",
    "\n",
    "In order to speed up dynamic programming, it may be better to use stack, which guide us to the next searching target. So we don't need to search so wild and knowing there are so many item cannot get to the solution.\n",
    "\n",
    "Related [link](https://leetcode.com/problems/concatenated-words/discuss/95647/Python-Explanation)."
   ]
  },
  {
   "cell_type": "code",
   "execution_count": 48,
   "metadata": {},
   "outputs": [],
   "source": [
    "class Solution(object):\n",
    "    def findAllConcatenatedWordsInADict(self, words):\n",
    "        \"\"\"\n",
    "        :type words: List[str]\n",
    "        :rtype: List[str]\n",
    "        \"\"\"\n",
    "        '''\n",
    "        We have to do the search from the shorter words to longer ones, and store the words seen so far for quicker check\n",
    "        '''\n",
    "        words = sorted(words, key = lambda x: len(x))\n",
    "        seen = set()\n",
    "        \n",
    "        def check(word):\n",
    "            if word in seen:\n",
    "                return True\n",
    "            for i in range(1, len(word)):\n",
    "                if word[:i] in seen and check(word[i:])==True:\n",
    "                    return True\n",
    "            return False\n",
    "        \n",
    "        ans = []\n",
    "        for word in words:\n",
    "            if check(word):\n",
    "                ans.append(word)\n",
    "            seen.add(word)\n",
    "        return ans"
   ]
  },
  {
   "cell_type": "markdown",
   "metadata": {},
   "source": [
    "Using seen here can help minimize the list for searching, which can be very helpful."
   ]
  },
  {
   "cell_type": "code",
   "execution_count": null,
   "metadata": {},
   "outputs": [],
   "source": []
  }
 ],
 "metadata": {
  "kernelspec": {
   "display_name": "Python 3",
   "language": "python",
   "name": "python3"
  },
  "language_info": {
   "codemirror_mode": {
    "name": "ipython",
    "version": 3
   },
   "file_extension": ".py",
   "mimetype": "text/x-python",
   "name": "python",
   "nbconvert_exporter": "python",
   "pygments_lexer": "ipython3",
   "version": "3.6.4"
  }
 },
 "nbformat": 4,
 "nbformat_minor": 2
}
