{
 "cells": [
  {
   "cell_type": "markdown",
   "metadata": {},
   "source": [
    "# Dynamic Programming\n",
    "\n",
    "Dynamic Programming means the optimal solution can be get from using the optimal solution of a sub problem."
   ]
  },
  {
   "cell_type": "code",
   "execution_count": null,
   "metadata": {},
   "outputs": [],
   "source": [
    "# 638 https://leetcode.com/problems/shopping-offers/description\n",
    "\n",
    "def _dot_product(price, needs):\n",
    "    return sum([price[i]*needs[i] for i in range(len(needs))])\n",
    "\n",
    "class Solution(object):\n",
    "    def shoppingOffers(self, price, special, needs):\n",
    "        \"\"\"\n",
    "        :type price: List[int]\n",
    "        :type special: List[List[int]]\n",
    "        :type needs: List[int]\n",
    "        :rtype: int\n",
    "        \"\"\"\n",
    "        if not special:\n",
    "            return _dot_product(price, needs)\n",
    "        p = self.shoppingOffers(price, special[1:], needs)\n",
    "        s0 = special[0]\n",
    "        p0 = 0\n",
    "        while True:\n",
    "            new_needs = []\n",
    "            for i in range(len(needs)): \n",
    "                new_need = needs[i] - s0[i]\n",
    "                if new_need < 0:\n",
    "                    return p\n",
    "                new_needs.append(new_need)\n",
    "            p0 += s0[-1]\n",
    "            p = min(p, p0 + self.shoppingOffers(price, special[1:], new_needs))\n",
    "            needs = new_needs"
   ]
  },
  {
   "cell_type": "markdown",
   "metadata": {},
   "source": [
    "Problem [link](https://leetcode.com/problems/best-time-to-buy-and-sell-stock-iii/discuss/39611/Is-it-Best-Solution-with-O(n)-O(1).)"
   ]
  },
  {
   "cell_type": "code",
   "execution_count": 2,
   "metadata": {},
   "outputs": [],
   "source": [
    "class Solution(object):\n",
    "    def maxProfit(self, prices):\n",
    "        \"\"\"\n",
    "        :type prices: List[int]\n",
    "        :rtype: int\n",
    "        \"\"\"\n",
    "        if not prices:\n",
    "            return 0\n",
    "        hold1 = -float('inf') #buy\n",
    "        hold2 = -float('inf') #buy\n",
    "        release1 = 0 # gain after sell\n",
    "        release2 = 0 # gain after sell\n",
    "        for num in prices:\n",
    "            release2 = max(release2, hold2+num)\n",
    "            hold2 = max(hold2, release1 - num)\n",
    "            release1 = max(release1, hold1 + num)\n",
    "            hold1 = max(hold1, 0-num)\n",
    "        return release2"
   ]
  },
  {
   "cell_type": "markdown",
   "metadata": {},
   "source": [
    "New variation, [link](https://leetcode.com/problems/best-time-to-buy-and-sell-stock-iv/discuss/54113/A-Concise-DP-Solution-in-Java)"
   ]
  },
  {
   "cell_type": "code",
   "execution_count": null,
   "metadata": {},
   "outputs": [],
   "source": [
    "class Solution(object):\n",
    "    def maxProfit(self, k, prices):\n",
    "        \"\"\"\n",
    "        :type k: int\n",
    "        :type prices: List[int]\n",
    "        :rtype: int\n",
    "        \"\"\"\n",
    "        if not prices or len(prices)<2:\n",
    "            return 0\n",
    "        if k == 0:\n",
    "            return 0\n",
    "        if k > len(prices)//2:\n",
    "            total = 0\n",
    "            pre = prices.pop(0)\n",
    "            for num in prices:\n",
    "                if num > pre:\n",
    "                    total += num-pre\n",
    "                pre = num\n",
    "            return total\n",
    "        hold = [-prices.pop(0)]*k\n",
    "        release = [0]*k\n",
    "        for num in prices:\n",
    "            for i in range(k-1, 0, -1):\n",
    "                release[i] = max(release[i], hold[i]+num)\n",
    "                hold[i] = max(hold[i], release[i-1]-num)\n",
    "            release[0] = max(release[0], hold[0]+num)\n",
    "            hold[0] = max(hold[0], 0-num)\n",
    "        return release[k-1]"
   ]
  },
  {
   "cell_type": "code",
   "execution_count": null,
   "metadata": {},
   "outputs": [],
   "source": []
  }
 ],
 "metadata": {
  "kernelspec": {
   "display_name": "Python 3",
   "language": "python",
   "name": "python3"
  },
  "language_info": {
   "codemirror_mode": {
    "name": "ipython",
    "version": 3
   },
   "file_extension": ".py",
   "mimetype": "text/x-python",
   "name": "python",
   "nbconvert_exporter": "python",
   "pygments_lexer": "ipython3",
   "version": "3.6.4"
  }
 },
 "nbformat": 4,
 "nbformat_minor": 2
}
