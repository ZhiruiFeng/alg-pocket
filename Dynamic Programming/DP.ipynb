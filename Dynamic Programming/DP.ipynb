{
 "cells": [
  {
   "cell_type": "markdown",
   "metadata": {},
   "source": [
    "# Dynamic Programming\n",
    "\n",
    "Dynamic Programming means the optimal solution can be get from using the optimal solution of a sub problem."
   ]
  },
  {
   "cell_type": "code",
   "execution_count": null,
   "metadata": {},
   "outputs": [],
   "source": [
    "# 638 https://leetcode.com/problems/shopping-offers/description\n",
    "\n",
    "def _dot_product(price, needs):\n",
    "    return sum([price[i]*needs[i] for i in range(len(needs))])\n",
    "\n",
    "class Solution(object):\n",
    "    def shoppingOffers(self, price, special, needs):\n",
    "        \"\"\"\n",
    "        :type price: List[int]\n",
    "        :type special: List[List[int]]\n",
    "        :type needs: List[int]\n",
    "        :rtype: int\n",
    "        \"\"\"\n",
    "        if not special:\n",
    "            return _dot_product(price, needs)\n",
    "        p = self.shoppingOffers(price, special[1:], needs)\n",
    "        s0 = special[0]\n",
    "        p0 = 0\n",
    "        while True:\n",
    "            new_needs = []\n",
    "            for i in range(len(needs)): \n",
    "                new_need = needs[i] - s0[i]\n",
    "                if new_need < 0:\n",
    "                    return p\n",
    "                new_needs.append(new_need)\n",
    "            p0 += s0[-1]\n",
    "            p = min(p, p0 + self.shoppingOffers(price, special[1:], new_needs))\n",
    "            needs = new_needs"
   ]
  }
 ],
 "metadata": {
  "kernelspec": {
   "display_name": "Python 3",
   "language": "python",
   "name": "python3"
  },
  "language_info": {
   "codemirror_mode": {
    "name": "ipython",
    "version": 3
   },
   "file_extension": ".py",
   "mimetype": "text/x-python",
   "name": "python",
   "nbconvert_exporter": "python",
   "pygments_lexer": "ipython3",
   "version": "3.6.4"
  }
 },
 "nbformat": 4,
 "nbformat_minor": 2
}
